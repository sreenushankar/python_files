{
 "cells": [
  {
   "cell_type": "code",
   "execution_count": 2,
   "metadata": {},
   "outputs": [
    {
     "name": "stdout",
     "output_type": "stream",
     "text": [
      " enter Some text and press enter :\n",
      "hello all\n"
     ]
    }
   ],
   "source": [
    "from threading import Thread\n",
    "\n",
    "class InputReader(Thread) :\n",
    "    def run(self) :\n",
    "        self.line_of_text = input()\n",
    "\n",
    "print (\" enter Some text and press enter :\")\n",
    "\n",
    "thread = InputReader()\n",
    "thread.start()"
   ]
  },
  {
   "cell_type": "code",
   "execution_count": 4,
   "metadata": {},
   "outputs": [
    {
     "name": "stdout",
     "output_type": "stream",
     "text": [
      "calulated squares up to 1 * 1 = 1\n"
     ]
    }
   ],
   "source": [
    "count = result = 1\n",
    "\n",
    "while thread.is_alive() :\n",
    "    result = count*count\n",
    "    count += 1\n",
    "    \n",
    "print(\"calulated squares up to {0} * {0} = {1}\".format(count,result))"
   ]
  },
  {
   "cell_type": "code",
   "execution_count": 6,
   "metadata": {},
   "outputs": [
    {
     "name": "stdout",
     "output_type": "stream",
     "text": [
      "base thread name who starts this program  MainThread\n",
      "Hello from the new thread childThread\n",
      " Hello from the new thread MainThread\n",
      " Hello from both of us\n",
      " Hello from both of us\n",
      "\n"
     ]
    }
   ],
   "source": [
    "\n",
    "\n",
    "\n",
    "import threading,time\n",
    "from sys import stdout\n",
    "\n",
    "def sleepandprint() :\n",
    "    time.sleep(3)\n",
    "    print(\"\\n Hello from both of us\")\n",
    "\n",
    "def threadcode() :\n",
    "    stdout.write(\"Hello from the new thread \")\n",
    "    stdout.write(threading.currentThread().getName())\n",
    "    sleepandprint()\n",
    "\n",
    "print (\"base thread name who starts this program \", threading.currentThread().getName())\n",
    "\n",
    "t = threading.Thread(target = threadcode,name=\"childThread\")\n",
    "\n",
    "t.setDaemon(1)\n",
    "t.start()\n",
    "\n",
    "stdout.write(\"\\n Hello from the new thread \")\n",
    "stdout.write(threading.currentThread().getName())\n",
    "sleepandprint()"
   ]
  },
  {
   "cell_type": "code",
   "execution_count": 7,
   "metadata": {},
   "outputs": [
    {
     "name": "stdout",
     "output_type": "stream",
     "text": [
      "Hello All\n",
      "Created my thread object\n",
      " Thread is now running\n",
      "Started my Thread\n",
      "My Thread finished\n"
     ]
    }
   ],
   "source": [
    "from threading import Thread\n",
    "\n",
    "class myWorkerThread (Thread) :\n",
    "    def __init__(self) :\n",
    "        print(\"Hello All\")\n",
    "        Thread.__init__(self)\n",
    "        \n",
    "    def run(self) :\n",
    "        print(\" Thread is now running\")\n",
    "        \n",
    "        \n",
    "myThread = myWorkerThread()\n",
    "print(\"Created my thread object\")\n",
    "myThread.start()\n",
    "print(\"Started my Thread\")\n",
    "myThread.join()\n",
    "print(\"My Thread finished\")"
   ]
  },
  {
   "cell_type": "code",
   "execution_count": 9,
   "metadata": {},
   "outputs": [
    {
     "ename": "TypeError",
     "evalue": "'myWorkerThread' object is not callable",
     "output_type": "error",
     "traceback": [
      "\u001b[1;31m---------------------------------------------------------------------------\u001b[0m",
      "\u001b[1;31mTypeError\u001b[0m                                 Traceback (most recent call last)",
      "\u001b[1;32m<ipython-input-9-59f7eeea0e0e>\u001b[0m in \u001b[0;36m<module>\u001b[1;34m\u001b[0m\n\u001b[0;32m      3\u001b[0m \u001b[1;32mimport\u001b[0m \u001b[0mrandom\u001b[0m\u001b[1;33m\u001b[0m\u001b[1;33m\u001b[0m\u001b[0m\n\u001b[0;32m      4\u001b[0m \u001b[1;33m\u001b[0m\u001b[0m\n\u001b[1;32m----> 5\u001b[1;33m \u001b[1;32mclass\u001b[0m \u001b[0mmyThread\u001b[0m\u001b[1;33m(\u001b[0m\u001b[0mthreading\u001b[0m\u001b[1;33m.\u001b[0m\u001b[0mThread\u001b[0m\u001b[1;33m)\u001b[0m \u001b[1;33m:\u001b[0m\u001b[1;33m\u001b[0m\u001b[1;33m\u001b[0m\u001b[0m\n\u001b[0m\u001b[0;32m      6\u001b[0m     \u001b[1;32mdef\u001b[0m \u001b[0m_init_\u001b[0m\u001b[1;33m(\u001b[0m\u001b[0mself\u001b[0m\u001b[1;33m,\u001b[0m \u001b[0mbarrier\u001b[0m\u001b[1;33m)\u001b[0m \u001b[1;33m:\u001b[0m\u001b[1;33m\u001b[0m\u001b[1;33m\u001b[0m\u001b[0m\n\u001b[0;32m      7\u001b[0m         \u001b[0mthreading\u001b[0m\u001b[1;33m.\u001b[0m\u001b[0mThread\u001b[0m\u001b[1;33m.\u001b[0m\u001b[0m_init_\u001b[0m\u001b[1;33m(\u001b[0m\u001b[0mself\u001b[0m\u001b[1;33m)\u001b[0m\u001b[1;33m\u001b[0m\u001b[1;33m\u001b[0m\u001b[0m\n",
      "\u001b[1;32m<ipython-input-9-59f7eeea0e0e>\u001b[0m in \u001b[0;36mmyThread\u001b[1;34m()\u001b[0m\n\u001b[0;32m     20\u001b[0m \u001b[1;33m\u001b[0m\u001b[0m\n\u001b[0;32m     21\u001b[0m     \u001b[1;32mfor\u001b[0m \u001b[0mi\u001b[0m \u001b[1;32min\u001b[0m \u001b[0mrange\u001b[0m\u001b[1;33m(\u001b[0m\u001b[1;36m4\u001b[0m\u001b[1;33m)\u001b[0m\u001b[1;33m:\u001b[0m\u001b[1;33m\u001b[0m\u001b[1;33m\u001b[0m\u001b[0m\n\u001b[1;32m---> 22\u001b[1;33m         \u001b[0mthread\u001b[0m \u001b[1;33m=\u001b[0m \u001b[0mmyThread\u001b[0m\u001b[1;33m(\u001b[0m\u001b[0mbarrier\u001b[0m\u001b[1;33m)\u001b[0m\u001b[1;33m\u001b[0m\u001b[1;33m\u001b[0m\u001b[0m\n\u001b[0m\u001b[0;32m     23\u001b[0m         \u001b[0mthread\u001b[0m\u001b[1;33m.\u001b[0m\u001b[0mstart\u001b[0m\u001b[1;33m(\u001b[0m\u001b[1;33m)\u001b[0m\u001b[1;33m\u001b[0m\u001b[1;33m\u001b[0m\u001b[0m\n\u001b[0;32m     24\u001b[0m         \u001b[0mthreads\u001b[0m\u001b[1;33m.\u001b[0m\u001b[0mappend\u001b[0m\u001b[1;33m(\u001b[0m\u001b[0mthread\u001b[0m\u001b[1;33m)\u001b[0m\u001b[1;33m\u001b[0m\u001b[1;33m\u001b[0m\u001b[0m\n",
      "\u001b[1;31mTypeError\u001b[0m: 'myWorkerThread' object is not callable"
     ]
    }
   ],
   "source": [
    "import threading\n",
    "import time\n",
    "import random\n",
    "\n",
    "class myThread(threading.Thread) :\n",
    "    def _init_(self, barrier) :\n",
    "        threading.Thread._init_(self)\n",
    "        self.barrier = barrier\n",
    "    \n",
    "    def run(self) :\n",
    "        print(\"Thread {} working on Something\".format(threading.current_thread()))\n",
    "        time.sleep(random.randint(1,10))\n",
    "        print(\"Thread () is joining {} waiting on Barrier\".format(threading.current_thread(),self.barrier.n_waiting))\n",
    "        self.barrier.wait()\n",
    "        print(\"Barrier has been lifted, continuing with work\")\n",
    "        \n",
    "    barrier = threading.Barrier(4)\n",
    "        \n",
    "    threads = []\n",
    "        \n",
    "    for i in range(4):\n",
    "        thread = myThread(barrier)\n",
    "        thread.start()\n",
    "        threads.append(thread)"
   ]
  },
  {
   "cell_type": "code",
   "execution_count": 13,
   "metadata": {},
   "outputs": [],
   "source": [
    "import threading\n",
    "import time\n",
    "import random\n",
    "\n",
    "counter = 1\n",
    "\n",
    "def workerA() :\n",
    "    global counter \n",
    "    \n",
    "    while counter < 100 :\n",
    "        counter += 1\n",
    "        print(\"Worker a is incrementing counter to {} \" .format(counter))\n",
    "           \n",
    "\n",
    "def workerB() :\n",
    "    global counter \n",
    "    \n",
    "    while counter > -100 :\n",
    "        counter -= 1\n",
    "        print(\"Worker a is decrementing counter to {} \" .format(counter))\n",
    "             \n",
    "def main() :\n",
    "    tO = time.time()\n",
    "    thread1 = threading.Thread(target=workerA)\n",
    "    thread2 = threading.Thread(target=workerB)\n",
    "    \n",
    "    thread1.start()\n",
    "    thread2.start()\n",
    "    \n",
    "    \n",
    "    t1 = time.time()\n",
    "    print(\"Execution Time {}\".format(t1-t0))\n",
    "    \n",
    "    if __name__==\"__main__\" :\n",
    "        main()"
   ]
  },
  {
   "cell_type": "code",
   "execution_count": 17,
   "metadata": {},
   "outputs": [
    {
     "ename": "NameError",
     "evalue": "name '_name' is not defined",
     "output_type": "error",
     "traceback": [
      "\u001b[1;31m---------------------------------------------------------------------------\u001b[0m",
      "\u001b[1;31mNameError\u001b[0m                                 Traceback (most recent call last)",
      "\u001b[1;32m<ipython-input-17-9177bbfff46c>\u001b[0m in \u001b[0;36m<module>\u001b[1;34m\u001b[0m\n\u001b[0;32m     46\u001b[0m     \u001b[0mprint\u001b[0m\u001b[1;33m(\u001b[0m\u001b[1;34m\"Execution time {}\"\u001b[0m\u001b[1;33m.\u001b[0m\u001b[0mformat\u001b[0m\u001b[1;33m(\u001b[0m\u001b[0mt1\u001b[0m\u001b[1;33m-\u001b[0m\u001b[0mt0\u001b[0m\u001b[1;33m)\u001b[0m\u001b[1;33m)\u001b[0m\u001b[1;33m\u001b[0m\u001b[1;33m\u001b[0m\u001b[0m\n\u001b[0;32m     47\u001b[0m \u001b[1;33m\u001b[0m\u001b[0m\n\u001b[1;32m---> 48\u001b[1;33m \u001b[1;32mif\u001b[0m \u001b[0m_name\u001b[0m\u001b[1;33m==\u001b[0m\u001b[1;34m\"main_\"\u001b[0m\u001b[1;33m:\u001b[0m\u001b[1;33m\u001b[0m\u001b[1;33m\u001b[0m\u001b[0m\n\u001b[0m\u001b[0;32m     49\u001b[0m     \u001b[0mmain\u001b[0m\u001b[1;33m(\u001b[0m\u001b[1;33m)\u001b[0m\u001b[1;33m\u001b[0m\u001b[1;33m\u001b[0m\u001b[0m\n",
      "\u001b[1;31mNameError\u001b[0m: name '_name' is not defined"
     ]
    }
   ],
   "source": [
    "import threading\n",
    "import time\n",
    "import random\n",
    "\n",
    "counter = 1\n",
    "lock = threading.Lock()\n",
    " \n",
    "    \n",
    "def workerA():\n",
    "    global counter\n",
    "    try:\n",
    "        while counter < 100:\n",
    "            counter += 1\n",
    "            print(\"Worker a is incrementing counter to {}\".format(counter))\n",
    "            \n",
    "            \n",
    "    finally:\n",
    "        lock.release()\n",
    "\n",
    "def workerB():\n",
    "    global counter\n",
    "    lock.acquire()\n",
    "    \n",
    "    try:\n",
    "        while counter > 100:\n",
    "            counter -= 1\n",
    "            print(\"Worker a is incrementing counter to {}\".format(counter))\n",
    "            \n",
    "            \n",
    "    finally:\n",
    "        lock.release()\n",
    "\n",
    "def main():\n",
    "    t0 = time.time()\n",
    "    thread1 = threading.Thread(target=workerA)\n",
    "    thread2 = threading.Thread(target=workerB)\n",
    "    \n",
    "    thread1.start()\n",
    "    thread2.start()\n",
    "    \n",
    "    thread1.join()\n",
    "    thread2.join()\n",
    "    \n",
    "    t1=time.time()\n",
    "    \n",
    "    print(\"Execution time {}\".format(t1-t0))\n",
    "    \n",
    "if _name==\"main_\":\n",
    "    main()"
   ]
  },
  {
   "cell_type": "code",
   "execution_count": 16,
   "metadata": {},
   "outputs": [
    {
     "name": "stdout",
     "output_type": "stream",
     "text": [
      "Waiting for event to be set \n",
      "Waiting for event to be set \n",
      "Waiting for event to be set \n",
      "Waiting for event to be set \n",
      "Waiting for event to be set \n",
      "Waiting for event to be set \n",
      "Waiting for event to be set \n",
      "Waiting for event to be set \n",
      "Waiting for event to be set \n",
      "Waiting for event to be set \n",
      "myevent has been set \n"
     ]
    }
   ],
   "source": [
    "import threading\n",
    "import time\n",
    "\n",
    "def myThread(myEvent) :\n",
    "    while not myEvent.is_set() :\n",
    "        print(\"Waiting for event to be set \")\n",
    "        time.sleep(1)\n",
    "    print(\"myevent has been set \")\n",
    "    \n",
    "def main() :\n",
    "    myEvent = threading.Event()\n",
    "    thread1 = threading.Thread(target=myThread, args=(myEvent,))\n",
    "    thread1.start()\n",
    "    \n",
    "    time.sleep(10)\n",
    "    myEvent.set()\n",
    "    \n",
    "if __name__== \"__main__\" :\n",
    "    main()"
   ]
  },
  {
   "cell_type": "code",
   "execution_count": 20,
   "metadata": {},
   "outputs": [
    {
     "name": "stdout",
     "output_type": "stream",
     "text": [
      "If O = Windows 3 = unix\n"
     ]
    },
    {
     "ename": "FileNotFoundError",
     "evalue": "[Errno 2] No such file or directory: 'apache-tomcat-9.0.43.zip'",
     "output_type": "error",
     "traceback": [
      "\u001b[1;31m---------------------------------------------------------------------------\u001b[0m",
      "\u001b[1;31mFileNotFoundError\u001b[0m                         Traceback (most recent call last)",
      "\u001b[1;32m<ipython-input-20-69c03bfe8e16>\u001b[0m in \u001b[0;36m<module>\u001b[1;34m\u001b[0m\n\u001b[0;32m      5\u001b[0m \u001b[1;33m\u001b[0m\u001b[0m\n\u001b[0;32m      6\u001b[0m \u001b[0mprint\u001b[0m\u001b[1;33m(\u001b[0m\u001b[1;34m\"If O = Windows 3 = unix\"\u001b[0m\u001b[1;33m)\u001b[0m\u001b[1;33m\u001b[0m\u001b[1;33m\u001b[0m\u001b[0m\n\u001b[1;32m----> 7\u001b[1;33m \u001b[1;32mwith\u001b[0m \u001b[0mZipFile\u001b[0m\u001b[1;33m(\u001b[0m\u001b[0mfile_name\u001b[0m\u001b[1;33m,\u001b[0m \u001b[1;34m'r'\u001b[0m\u001b[1;33m)\u001b[0m \u001b[1;32mas\u001b[0m \u001b[0mzip\u001b[0m \u001b[1;33m:\u001b[0m\u001b[1;33m\u001b[0m\u001b[1;33m\u001b[0m\u001b[0m\n\u001b[0m\u001b[0;32m      8\u001b[0m     \u001b[1;32mfor\u001b[0m \u001b[0minfo\u001b[0m \u001b[1;32min\u001b[0m \u001b[0mZip\u001b[0m\u001b[1;33m.\u001b[0m\u001b[0minfolist\u001b[0m\u001b[1;33m(\u001b[0m\u001b[1;33m)\u001b[0m \u001b[1;33m:\u001b[0m\u001b[1;33m\u001b[0m\u001b[1;33m\u001b[0m\u001b[0m\n\u001b[0;32m      9\u001b[0m         \u001b[0mprint\u001b[0m\u001b[1;33m(\u001b[0m\u001b[0minfo\u001b[0m\u001b[1;33m.\u001b[0m\u001b[0mfilename\u001b[0m\u001b[1;33m)\u001b[0m\u001b[1;33m\u001b[0m\u001b[1;33m\u001b[0m\u001b[0m\n",
      "\u001b[1;32m~\\anaconda3\\lib\\zipfile.py\u001b[0m in \u001b[0;36m__init__\u001b[1;34m(self, file, mode, compression, allowZip64, compresslevel, strict_timestamps)\u001b[0m\n\u001b[0;32m   1249\u001b[0m             \u001b[1;32mwhile\u001b[0m \u001b[1;32mTrue\u001b[0m\u001b[1;33m:\u001b[0m\u001b[1;33m\u001b[0m\u001b[1;33m\u001b[0m\u001b[0m\n\u001b[0;32m   1250\u001b[0m                 \u001b[1;32mtry\u001b[0m\u001b[1;33m:\u001b[0m\u001b[1;33m\u001b[0m\u001b[1;33m\u001b[0m\u001b[0m\n\u001b[1;32m-> 1251\u001b[1;33m                     \u001b[0mself\u001b[0m\u001b[1;33m.\u001b[0m\u001b[0mfp\u001b[0m \u001b[1;33m=\u001b[0m \u001b[0mio\u001b[0m\u001b[1;33m.\u001b[0m\u001b[0mopen\u001b[0m\u001b[1;33m(\u001b[0m\u001b[0mfile\u001b[0m\u001b[1;33m,\u001b[0m \u001b[0mfilemode\u001b[0m\u001b[1;33m)\u001b[0m\u001b[1;33m\u001b[0m\u001b[1;33m\u001b[0m\u001b[0m\n\u001b[0m\u001b[0;32m   1252\u001b[0m                 \u001b[1;32mexcept\u001b[0m \u001b[0mOSError\u001b[0m\u001b[1;33m:\u001b[0m\u001b[1;33m\u001b[0m\u001b[1;33m\u001b[0m\u001b[0m\n\u001b[0;32m   1253\u001b[0m                     \u001b[1;32mif\u001b[0m \u001b[0mfilemode\u001b[0m \u001b[1;32min\u001b[0m \u001b[0mmodeDict\u001b[0m\u001b[1;33m:\u001b[0m\u001b[1;33m\u001b[0m\u001b[1;33m\u001b[0m\u001b[0m\n",
      "\u001b[1;31mFileNotFoundError\u001b[0m: [Errno 2] No such file or directory: 'apache-tomcat-9.0.43.zip'"
     ]
    }
   ],
   "source": [
    "from zipfile import ZipFile\n",
    "import datetime\n",
    "\n",
    "file_name = \"apache-tomcat-9.0.43.zip\"\n",
    "\n",
    "print(\"If O = Windows 3 = unix\")\n",
    "with ZipFile(file_name, 'r') as zip :\n",
    "    for info in Zip.infolist() :\n",
    "        print(info.filename)\n",
    "        print(\"Modified :\" + str(datatime.datetime(*info.date_time)))\n",
    "        print(\"If O = Windows 3 = unix\")\n",
    "        print(\"system :\" + str (info.create_system))\n",
    "        print(\"Zip Version :\" + str(info.create_version))\n",
    "        print(\"Compressed :\" + str(info.compress_size))\n",
    "        print(\"UnCompressed :\" + str(info.files_size))\n",
    "        \n",
    "        "
   ]
  },
  {
   "cell_type": "code",
   "execution_count": 22,
   "metadata": {},
   "outputs": [
    {
     "name": "stdout",
     "output_type": "stream",
     "text": [
      "Following files will be zipped\n",
      "All Files zipped\n"
     ]
    }
   ],
   "source": [
    "from zipfile import ZipFile\n",
    "import os\n",
    "\n",
    "def get_all_file_paths(directory) :\n",
    "    file_paths = []\n",
    "    \n",
    "    for root,directories,files in os.walk(directory) :\n",
    "        for filename in files :\n",
    "            filepath = os.path.jion(root,filename)\n",
    "            file_paths.append(filepath)\n",
    "    return file_paths\n",
    "\n",
    "def main() :\n",
    "    directory = './python_files'\n",
    "    \n",
    "    file_paths = get_all_file_paths(directory)\n",
    "    \n",
    "    print('Following files will be zipped')\n",
    "    \n",
    "    for file_name in file_paths :\n",
    "        print(file_name)\n",
    "        \n",
    "    with ZipFile(\"backup.zip\", 'w')as zip :\n",
    "        for file in file_paths :\n",
    "            zip.write(file)\n",
    "    print(\"All Files zipped\")\n",
    "    \n",
    "if __name__== \"__main__\" :\n",
    "    main()\n",
    "            "
   ]
  },
  {
   "cell_type": "code",
   "execution_count": 24,
   "metadata": {},
   "outputs": [
    {
     "name": "stdout",
     "output_type": "stream",
     "text": [
      "File Name                                             Modified             Size\n",
      "Extracting all files \n",
      "done\n"
     ]
    }
   ],
   "source": [
    "from zipfile import ZipFile\n",
    "\n",
    "filename = \"backup.zip\"\n",
    "\n",
    "with ZipFile(filename, 'r') as zip :\n",
    "    zip.printdir()\n",
    "    \n",
    "    print(\"Extracting all files \")\n",
    "    zip.extractall()\n",
    "    print(\"done\")\n",
    "    "
   ]
  },
  {
   "cell_type": "code",
   "execution_count": null,
   "metadata": {},
   "outputs": [],
   "source": []
  }
 ],
 "metadata": {
  "kernelspec": {
   "display_name": "Python 3",
   "language": "python",
   "name": "python3"
  },
  "language_info": {
   "codemirror_mode": {
    "name": "ipython",
    "version": 3
   },
   "file_extension": ".py",
   "mimetype": "text/x-python",
   "name": "python",
   "nbconvert_exporter": "python",
   "pygments_lexer": "ipython3",
   "version": "3.8.5"
  }
 },
 "nbformat": 4,
 "nbformat_minor": 4
}
