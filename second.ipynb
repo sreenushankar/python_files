{
 "cells": [
  {
   "cell_type": "code",
   "execution_count": 1,
   "metadata": {},
   "outputs": [
    {
     "data": {
      "text/plain": [
       "105.0"
      ]
     },
     "execution_count": 1,
     "metadata": {},
     "output_type": "execute_result"
    }
   ],
   "source": [
    "def taxMe(cost, rate=0.028):\n",
    "    return cost +(cost * rate)\n",
    "\n",
    "taxMe(100,0.05)"
   ]
  },
  {
   "cell_type": "code",
   "execution_count": 2,
   "metadata": {},
   "outputs": [
    {
     "data": {
      "text/plain": [
       "102.8"
      ]
     },
     "execution_count": 2,
     "metadata": {},
     "output_type": "execute_result"
    }
   ],
   "source": [
    "taxMe(100)"
   ]
  },
  {
   "cell_type": "code",
   "execution_count": 5,
   "metadata": {},
   "outputs": [
    {
     "name": "stdout",
     "output_type": "stream",
     "text": [
      "Happy Birthday,  sreenu I hear you are  23 today \n",
      "\n"
     ]
    }
   ],
   "source": [
    "def birthday1(name,age):\n",
    "    print(\"Happy Birthday, \",name,\"I hear you are \", age, \"today \\n\")\n",
    "\n",
    "def birthday2(name=\"vishnu\",age =23):\n",
    "    print(\"Happy Birthday, \",name,\"I hear you are \", age, \"today \\n\")\n",
    "\n",
    "birthday1(\"sreenu\",23 )"
   ]
  },
  {
   "cell_type": "code",
   "execution_count": 6,
   "metadata": {},
   "outputs": [
    {
     "name": "stdout",
     "output_type": "stream",
     "text": [
      "Happy Birthday,  23 I hear you are  sreenu today \n",
      "\n"
     ]
    }
   ],
   "source": [
    "birthday1(23,\"sreenu\")"
   ]
  },
  {
   "cell_type": "code",
   "execution_count": 7,
   "metadata": {},
   "outputs": [
    {
     "name": "stdout",
     "output_type": "stream",
     "text": [
      "Happy Birthday,  sreenu I hear you are  23 today \n",
      "\n"
     ]
    }
   ],
   "source": [
    "birthday1(age=23,name =\"sreenu\")"
   ]
  },
  {
   "cell_type": "code",
   "execution_count": 8,
   "metadata": {},
   "outputs": [
    {
     "name": "stdout",
     "output_type": "stream",
     "text": [
      "Happy Birthday,  ravanamma I hear you are  22 today \n",
      "\n"
     ]
    }
   ],
   "source": [
    "birthday2(\"ravanamma\", 22)"
   ]
  },
  {
   "cell_type": "code",
   "execution_count": 9,
   "metadata": {},
   "outputs": [
    {
     "name": "stdout",
     "output_type": "stream",
     "text": [
      "Happy Birthday,  siva I hear you are  23 today \n",
      "\n"
     ]
    }
   ],
   "source": [
    "birthday2(name=\"siva\")"
   ]
  },
  {
   "cell_type": "code",
   "execution_count": 10,
   "metadata": {},
   "outputs": [
    {
     "name": "stdout",
     "output_type": "stream",
     "text": [
      "Happy Birthday,  vishnu I hear you are  23 today \n",
      "\n"
     ]
    }
   ],
   "source": [
    "birthday2(age=23)"
   ]
  },
  {
   "cell_type": "code",
   "execution_count": 11,
   "metadata": {},
   "outputs": [
    {
     "data": {
      "text/plain": [
       "['__annotations__',\n",
       " '__call__',\n",
       " '__class__',\n",
       " '__closure__',\n",
       " '__code__',\n",
       " '__defaults__',\n",
       " '__delattr__',\n",
       " '__dict__',\n",
       " '__dir__',\n",
       " '__doc__',\n",
       " '__eq__',\n",
       " '__format__',\n",
       " '__ge__',\n",
       " '__get__',\n",
       " '__getattribute__',\n",
       " '__globals__',\n",
       " '__gt__',\n",
       " '__hash__',\n",
       " '__init__',\n",
       " '__init_subclass__',\n",
       " '__kwdefaults__',\n",
       " '__le__',\n",
       " '__lt__',\n",
       " '__module__',\n",
       " '__name__',\n",
       " '__ne__',\n",
       " '__new__',\n",
       " '__qualname__',\n",
       " '__reduce__',\n",
       " '__reduce_ex__',\n",
       " '__repr__',\n",
       " '__setattr__',\n",
       " '__sizeof__',\n",
       " '__str__',\n",
       " '__subclasshook__']"
      ]
     },
     "execution_count": 11,
     "metadata": {},
     "output_type": "execute_result"
    }
   ],
   "source": [
    "def func(params):\n",
    "    \"\"\"do Something with a dictionary of parameters \n",
    "    djfhjdddddd\n",
    "    \"\"\"\n",
    "\n",
    "\n",
    "class Foo :\n",
    "    \"\"\"do something in class\"\"\"\n",
    "    x= 1\n",
    "\n",
    "    \n",
    "\n",
    "dir(func)"
   ]
  },
  {
   "cell_type": "code",
   "execution_count": 12,
   "metadata": {},
   "outputs": [
    {
     "name": "stdout",
     "output_type": "stream",
     "text": [
      "do something in class\n"
     ]
    }
   ],
   "source": [
    "print(Foo.__doc__)"
   ]
  },
  {
   "cell_type": "code",
   "execution_count": 13,
   "metadata": {},
   "outputs": [
    {
     "name": "stdout",
     "output_type": "stream",
     "text": [
      "do Something with a dictionary of parameters \n",
      "    djfhjdddddd\n",
      "    \n"
     ]
    }
   ],
   "source": [
    "print(func.__doc__)"
   ]
  },
  {
   "cell_type": "code",
   "execution_count": 14,
   "metadata": {},
   "outputs": [
    {
     "name": "stdout",
     "output_type": "stream",
     "text": [
      "Help on function func in module __main__:\n",
      "\n",
      "func(params)\n",
      "    do Something with a dictionary of parameters \n",
      "    djfhjdddddd\n",
      "\n"
     ]
    }
   ],
   "source": [
    "help(func)"
   ]
  },
  {
   "cell_type": "code",
   "execution_count": 21,
   "metadata": {},
   "outputs": [
    {
     "name": "stdout",
     "output_type": "stream",
     "text": [
      "Nested Function\n",
      "x value =  7\n",
      "{'c': 5, 'd': 3, 'x': 7, 'b': 3}\n",
      "{'__name__': '__main__', '__doc__': 'Automatically created module for IPython interactive environment', '__package__': None, '__loader__': None, '__spec__': None, '__builtin__': <module 'builtins' (built-in)>, '__builtins__': <module 'builtins' (built-in)>, '_ih': ['', 'def taxMe(cost, rate=0.028):\\n    return cost +(cost * rate)\\n\\ntaxMe(100,0.05)', 'taxMe(100)', 'def birthday1(name,age):\\n    print(\"Happy Birthday, \",name,\"I hear you are \", age, \"today \\\\n\")\\n\\ndef birthday1(name=\"vishnu\",age =23):\\n    print(\"Happy Birthday, \",name,\"I hear you are \", age, \"today \\\\n\")\\n\\nBirthday1(\"sreenu\",23 )', 'def birthday1(name,age):\\n    print(\"Happy Birthday, \",name,\"I hear you are \", age, \"today \\\\n\")\\n\\ndef birthday2(name=\"vishnu\",age =23):\\n    print(\"Happy Birthday, \",name,\"I hear you are \", age, \"today \\\\n\")\\n\\nBirthday1(\"sreenu\",23 )', 'def birthday1(name,age):\\n    print(\"Happy Birthday, \",name,\"I hear you are \", age, \"today \\\\n\")\\n\\ndef birthday2(name=\"vishnu\",age =23):\\n    print(\"Happy Birthday, \",name,\"I hear you are \", age, \"today \\\\n\")\\n\\nbirthday1(\"sreenu\",23 )', 'birthday1(23,\"sreenu\")', 'birthday1(age=23,name =\"sreenu\")', 'birthday2(\"ravanamma\", 22)', 'birthday2(name=\"siva\")', 'birthday2(age=23)', 'def func(params):\\n    \"\"\"do Something with a dictionary of parameters \\n    djfhjdddddd\\n    \"\"\"\\n\\n\\nclass Foo :\\n    \"\"\"do something in class\"\"\"\\n    x= 1\\n\\n    \\n\\ndir(func)', 'print(Foo.__doc__)', 'print(func.__doc__)', 'help(func)', '# global declartion\\n\\nx=1\\n\\ndef fun(a):\\n    b = 3\\n    x = 4\\n    def sub(c):\\n        d = b\\n        x = 7\\n        print(\"Nested Function\")\\n        print(\"x value = \", x)\\n        print(local())\\n        \\n    sub(5)\\n    print (\"b value = \", b)\\n    print(\"x value = \", x)\\n    \\nfun(3)', '# global declartion\\n\\nx=1\\n\\ndef fun(a):\\n    b = 3\\n    x = 4\\n    def sub(c):\\n        d = b\\n        x = 7\\n        print(\"Nested Function\")\\n        print(\"x value = \", x)\\n        \\n    sub(5)\\n    print (\"b value = \", b)\\n    print(\"x value = \", x)\\n    \\nfun(3)', '# global declartion\\n\\nx=1\\n\\ndef fun(a):\\n    b = 3\\n    x = 4\\n    def sub(c):\\n        d = b\\n        x = 7\\n        print(\"Nested Function\")\\n        print(\"x value = \", x)\\n        print(locals())\\n\\n        \\n    sub(5)\\n    print (\"b value = \", b)\\n    print(\"x value = \", x)\\n    \\n    \\nfun(3)', '# global declartion\\n\\nx=1\\n\\ndef fun(a):\\n    b = 3\\n    x = 4\\n    def sub(c):\\n        d = b\\n        x = 7\\n        print(\"Nested Function\")\\n        print(\"x value = \", x)\\n        print(locals())\\n\\n        \\n    sub(5)\\n    print (\"b value = \", b)\\n    print(\"x value = \", x)\\n    print(locals())\\n\\n    \\nfun(3)', '# global declartion\\n\\nx=1\\n\\ndef fun(a):\\n    b = 3\\n    x = 4\\n    def sub(c):\\n        d = b\\n        x = 7\\n        print(\"Nested Function\")\\n        print(\"x value = \", x)\\n        print(locals())\\n        print((\"\\\\n Globals\")\\n        print(locals())\\n\\n        \\n    sub(5)\\n    print (\"b value = \", b)\\n    print(\"x value = \", x)\\n    print(locals())\\n\\n    \\nfun(3)', '# global declartion\\n\\nx=1\\n\\ndef fun(a):\\n    b = 3\\n    x = 4\\n    def sub(c):\\n        d = b\\n        x = 7\\n        print(\"Nested Function\")\\n        print(\"x value = \", x)\\n        print(locals())\\n        print((\"\\\\n Globals\")\\n        print(globals())\\n\\n        \\n    sub(5)\\n    print (\"b value = \", b)\\n    print(\"x value = \", x)\\n    print(locals())\\n\\n    \\nfun(3)', '# global declartion\\n\\nx=1\\n\\ndef fun(a):\\n    b = 3\\n    x = 4\\n    def sub(c):\\n        d = b\\n        x = 7\\n        print(\"Nested Function\")\\n        print(\"x value = \", x)\\n        print(locals())\\n     ##   print((\"\\\\n Globals\")\\n        print(globals())\\n\\n        \\n    sub(5)\\n    print (\"b value = \", b)\\n    print(\"x value = \", x)\\n    print(locals())\\n\\n    \\nfun(3)'], '_oh': {1: 105.0, 2: 102.8, 11: ['__annotations__', '__call__', '__class__', '__closure__', '__code__', '__defaults__', '__delattr__', '__dict__', '__dir__', '__doc__', '__eq__', '__format__', '__ge__', '__get__', '__getattribute__', '__globals__', '__gt__', '__hash__', '__init__', '__init_subclass__', '__kwdefaults__', '__le__', '__lt__', '__module__', '__name__', '__ne__', '__new__', '__qualname__', '__reduce__', '__reduce_ex__', '__repr__', '__setattr__', '__sizeof__', '__str__', '__subclasshook__']}, '_dh': ['C:\\\\Users\\\\SreenivasuluGundagul\\\\PythonFeb2021'], 'In': ['', 'def taxMe(cost, rate=0.028):\\n    return cost +(cost * rate)\\n\\ntaxMe(100,0.05)', 'taxMe(100)', 'def birthday1(name,age):\\n    print(\"Happy Birthday, \",name,\"I hear you are \", age, \"today \\\\n\")\\n\\ndef birthday1(name=\"vishnu\",age =23):\\n    print(\"Happy Birthday, \",name,\"I hear you are \", age, \"today \\\\n\")\\n\\nBirthday1(\"sreenu\",23 )', 'def birthday1(name,age):\\n    print(\"Happy Birthday, \",name,\"I hear you are \", age, \"today \\\\n\")\\n\\ndef birthday2(name=\"vishnu\",age =23):\\n    print(\"Happy Birthday, \",name,\"I hear you are \", age, \"today \\\\n\")\\n\\nBirthday1(\"sreenu\",23 )', 'def birthday1(name,age):\\n    print(\"Happy Birthday, \",name,\"I hear you are \", age, \"today \\\\n\")\\n\\ndef birthday2(name=\"vishnu\",age =23):\\n    print(\"Happy Birthday, \",name,\"I hear you are \", age, \"today \\\\n\")\\n\\nbirthday1(\"sreenu\",23 )', 'birthday1(23,\"sreenu\")', 'birthday1(age=23,name =\"sreenu\")', 'birthday2(\"ravanamma\", 22)', 'birthday2(name=\"siva\")', 'birthday2(age=23)', 'def func(params):\\n    \"\"\"do Something with a dictionary of parameters \\n    djfhjdddddd\\n    \"\"\"\\n\\n\\nclass Foo :\\n    \"\"\"do something in class\"\"\"\\n    x= 1\\n\\n    \\n\\ndir(func)', 'print(Foo.__doc__)', 'print(func.__doc__)', 'help(func)', '# global declartion\\n\\nx=1\\n\\ndef fun(a):\\n    b = 3\\n    x = 4\\n    def sub(c):\\n        d = b\\n        x = 7\\n        print(\"Nested Function\")\\n        print(\"x value = \", x)\\n        print(local())\\n        \\n    sub(5)\\n    print (\"b value = \", b)\\n    print(\"x value = \", x)\\n    \\nfun(3)', '# global declartion\\n\\nx=1\\n\\ndef fun(a):\\n    b = 3\\n    x = 4\\n    def sub(c):\\n        d = b\\n        x = 7\\n        print(\"Nested Function\")\\n        print(\"x value = \", x)\\n        \\n    sub(5)\\n    print (\"b value = \", b)\\n    print(\"x value = \", x)\\n    \\nfun(3)', '# global declartion\\n\\nx=1\\n\\ndef fun(a):\\n    b = 3\\n    x = 4\\n    def sub(c):\\n        d = b\\n        x = 7\\n        print(\"Nested Function\")\\n        print(\"x value = \", x)\\n        print(locals())\\n\\n        \\n    sub(5)\\n    print (\"b value = \", b)\\n    print(\"x value = \", x)\\n    \\n    \\nfun(3)', '# global declartion\\n\\nx=1\\n\\ndef fun(a):\\n    b = 3\\n    x = 4\\n    def sub(c):\\n        d = b\\n        x = 7\\n        print(\"Nested Function\")\\n        print(\"x value = \", x)\\n        print(locals())\\n\\n        \\n    sub(5)\\n    print (\"b value = \", b)\\n    print(\"x value = \", x)\\n    print(locals())\\n\\n    \\nfun(3)', '# global declartion\\n\\nx=1\\n\\ndef fun(a):\\n    b = 3\\n    x = 4\\n    def sub(c):\\n        d = b\\n        x = 7\\n        print(\"Nested Function\")\\n        print(\"x value = \", x)\\n        print(locals())\\n        print((\"\\\\n Globals\")\\n        print(locals())\\n\\n        \\n    sub(5)\\n    print (\"b value = \", b)\\n    print(\"x value = \", x)\\n    print(locals())\\n\\n    \\nfun(3)', '# global declartion\\n\\nx=1\\n\\ndef fun(a):\\n    b = 3\\n    x = 4\\n    def sub(c):\\n        d = b\\n        x = 7\\n        print(\"Nested Function\")\\n        print(\"x value = \", x)\\n        print(locals())\\n        print((\"\\\\n Globals\")\\n        print(globals())\\n\\n        \\n    sub(5)\\n    print (\"b value = \", b)\\n    print(\"x value = \", x)\\n    print(locals())\\n\\n    \\nfun(3)', '# global declartion\\n\\nx=1\\n\\ndef fun(a):\\n    b = 3\\n    x = 4\\n    def sub(c):\\n        d = b\\n        x = 7\\n        print(\"Nested Function\")\\n        print(\"x value = \", x)\\n        print(locals())\\n     ##   print((\"\\\\n Globals\")\\n        print(globals())\\n\\n        \\n    sub(5)\\n    print (\"b value = \", b)\\n    print(\"x value = \", x)\\n    print(locals())\\n\\n    \\nfun(3)'], 'Out': {1: 105.0, 2: 102.8, 11: ['__annotations__', '__call__', '__class__', '__closure__', '__code__', '__defaults__', '__delattr__', '__dict__', '__dir__', '__doc__', '__eq__', '__format__', '__ge__', '__get__', '__getattribute__', '__globals__', '__gt__', '__hash__', '__init__', '__init_subclass__', '__kwdefaults__', '__le__', '__lt__', '__module__', '__name__', '__ne__', '__new__', '__qualname__', '__reduce__', '__reduce_ex__', '__repr__', '__setattr__', '__sizeof__', '__str__', '__subclasshook__']}, 'get_ipython': <bound method InteractiveShell.get_ipython of <ipykernel.zmqshell.ZMQInteractiveShell object at 0x000001BC7D7C2820>>, 'exit': <IPython.core.autocall.ZMQExitAutocall object at 0x000001BC7D8334F0>, 'quit': <IPython.core.autocall.ZMQExitAutocall object at 0x000001BC7D8334F0>, '_': ['__annotations__', '__call__', '__class__', '__closure__', '__code__', '__defaults__', '__delattr__', '__dict__', '__dir__', '__doc__', '__eq__', '__format__', '__ge__', '__get__', '__getattribute__', '__globals__', '__gt__', '__hash__', '__init__', '__init_subclass__', '__kwdefaults__', '__le__', '__lt__', '__module__', '__name__', '__ne__', '__new__', '__qualname__', '__reduce__', '__reduce_ex__', '__repr__', '__setattr__', '__sizeof__', '__str__', '__subclasshook__'], '__': 102.8, '___': 105.0, '_i': '# global declartion\\n\\nx=1\\n\\ndef fun(a):\\n    b = 3\\n    x = 4\\n    def sub(c):\\n        d = b\\n        x = 7\\n        print(\"Nested Function\")\\n        print(\"x value = \", x)\\n        print(locals())\\n        print((\"\\\\n Globals\")\\n        print(globals())\\n\\n        \\n    sub(5)\\n    print (\"b value = \", b)\\n    print(\"x value = \", x)\\n    print(locals())\\n\\n    \\nfun(3)', '_ii': '# global declartion\\n\\nx=1\\n\\ndef fun(a):\\n    b = 3\\n    x = 4\\n    def sub(c):\\n        d = b\\n        x = 7\\n        print(\"Nested Function\")\\n        print(\"x value = \", x)\\n        print(locals())\\n        print((\"\\\\n Globals\")\\n        print(locals())\\n\\n        \\n    sub(5)\\n    print (\"b value = \", b)\\n    print(\"x value = \", x)\\n    print(locals())\\n\\n    \\nfun(3)', '_iii': '# global declartion\\n\\nx=1\\n\\ndef fun(a):\\n    b = 3\\n    x = 4\\n    def sub(c):\\n        d = b\\n        x = 7\\n        print(\"Nested Function\")\\n        print(\"x value = \", x)\\n        print(locals())\\n\\n        \\n    sub(5)\\n    print (\"b value = \", b)\\n    print(\"x value = \", x)\\n    print(locals())\\n\\n    \\nfun(3)', '_i1': 'def taxMe(cost, rate=0.028):\\n    return cost +(cost * rate)\\n\\ntaxMe(100,0.05)', 'taxMe': <function taxMe at 0x000001BC7D8735E0>, '_1': 105.0, '_i2': 'taxMe(100)', '_2': 102.8, '_i3': 'def birthday1(name,age):\\n    print(\"Happy Birthday, \",name,\"I hear you are \", age, \"today \\\\n\")\\n\\ndef birthday1(name=\"vishnu\",age =23):\\n    print(\"Happy Birthday, \",name,\"I hear you are \", age, \"today \\\\n\")\\n\\nBirthday1(\"sreenu\",23 )', 'birthday1': <function birthday1 at 0x000001BC7D94A1F0>, '_i4': 'def birthday1(name,age):\\n    print(\"Happy Birthday, \",name,\"I hear you are \", age, \"today \\\\n\")\\n\\ndef birthday2(name=\"vishnu\",age =23):\\n    print(\"Happy Birthday, \",name,\"I hear you are \", age, \"today \\\\n\")\\n\\nBirthday1(\"sreenu\",23 )', 'birthday2': <function birthday2 at 0x000001BC7D94A160>, '_i5': 'def birthday1(name,age):\\n    print(\"Happy Birthday, \",name,\"I hear you are \", age, \"today \\\\n\")\\n\\ndef birthday2(name=\"vishnu\",age =23):\\n    print(\"Happy Birthday, \",name,\"I hear you are \", age, \"today \\\\n\")\\n\\nbirthday1(\"sreenu\",23 )', '_i6': 'birthday1(23,\"sreenu\")', '_i7': 'birthday1(age=23,name =\"sreenu\")', '_i8': 'birthday2(\"ravanamma\", 22)', '_i9': 'birthday2(name=\"siva\")', '_i10': 'birthday2(age=23)', '_i11': 'def func(params):\\n    \"\"\"do Something with a dictionary of parameters \\n    djfhjdddddd\\n    \"\"\"\\n\\n\\nclass Foo :\\n    \"\"\"do something in class\"\"\"\\n    x= 1\\n\\n    \\n\\ndir(func)', 'func': <function func at 0x000001BC7D94A280>, 'Foo': <class '__main__.Foo'>, '_11': ['__annotations__', '__call__', '__class__', '__closure__', '__code__', '__defaults__', '__delattr__', '__dict__', '__dir__', '__doc__', '__eq__', '__format__', '__ge__', '__get__', '__getattribute__', '__globals__', '__gt__', '__hash__', '__init__', '__init_subclass__', '__kwdefaults__', '__le__', '__lt__', '__module__', '__name__', '__ne__', '__new__', '__qualname__', '__reduce__', '__reduce_ex__', '__repr__', '__setattr__', '__sizeof__', '__str__', '__subclasshook__'], '_i12': 'print(Foo.__doc__)', '_i13': 'print(func.__doc__)', '_i14': 'help(func)', '_i15': '# global declartion\\n\\nx=1\\n\\ndef fun(a):\\n    b = 3\\n    x = 4\\n    def sub(c):\\n        d = b\\n        x = 7\\n        print(\"Nested Function\")\\n        print(\"x value = \", x)\\n        print(local())\\n        \\n    sub(5)\\n    print (\"b value = \", b)\\n    print(\"x value = \", x)\\n    \\nfun(3)', 'x': 1, 'fun': <function fun at 0x000001BC7D94ADC0>, '_i16': '# global declartion\\n\\nx=1\\n\\ndef fun(a):\\n    b = 3\\n    x = 4\\n    def sub(c):\\n        d = b\\n        x = 7\\n        print(\"Nested Function\")\\n        print(\"x value = \", x)\\n        \\n    sub(5)\\n    print (\"b value = \", b)\\n    print(\"x value = \", x)\\n    \\nfun(3)', '_i17': '# global declartion\\n\\nx=1\\n\\ndef fun(a):\\n    b = 3\\n    x = 4\\n    def sub(c):\\n        d = b\\n        x = 7\\n        print(\"Nested Function\")\\n        print(\"x value = \", x)\\n        print(locals())\\n\\n        \\n    sub(5)\\n    print (\"b value = \", b)\\n    print(\"x value = \", x)\\n    \\n    \\nfun(3)', '_i18': '# global declartion\\n\\nx=1\\n\\ndef fun(a):\\n    b = 3\\n    x = 4\\n    def sub(c):\\n        d = b\\n        x = 7\\n        print(\"Nested Function\")\\n        print(\"x value = \", x)\\n        print(locals())\\n\\n        \\n    sub(5)\\n    print (\"b value = \", b)\\n    print(\"x value = \", x)\\n    print(locals())\\n\\n    \\nfun(3)', '_i19': '# global declartion\\n\\nx=1\\n\\ndef fun(a):\\n    b = 3\\n    x = 4\\n    def sub(c):\\n        d = b\\n        x = 7\\n        print(\"Nested Function\")\\n        print(\"x value = \", x)\\n        print(locals())\\n        print((\"\\\\n Globals\")\\n        print(locals())\\n\\n        \\n    sub(5)\\n    print (\"b value = \", b)\\n    print(\"x value = \", x)\\n    print(locals())\\n\\n    \\nfun(3)', '_i20': '# global declartion\\n\\nx=1\\n\\ndef fun(a):\\n    b = 3\\n    x = 4\\n    def sub(c):\\n        d = b\\n        x = 7\\n        print(\"Nested Function\")\\n        print(\"x value = \", x)\\n        print(locals())\\n        print((\"\\\\n Globals\")\\n        print(globals())\\n\\n        \\n    sub(5)\\n    print (\"b value = \", b)\\n    print(\"x value = \", x)\\n    print(locals())\\n\\n    \\nfun(3)', '_i21': '# global declartion\\n\\nx=1\\n\\ndef fun(a):\\n    b = 3\\n    x = 4\\n    def sub(c):\\n        d = b\\n        x = 7\\n        print(\"Nested Function\")\\n        print(\"x value = \", x)\\n        print(locals())\\n     ##   print((\"\\\\n Globals\")\\n        print(globals())\\n\\n        \\n    sub(5)\\n    print (\"b value = \", b)\\n    print(\"x value = \", x)\\n    print(locals())\\n\\n    \\nfun(3)'}\n",
      "b value =  3\n",
      "x value =  4\n",
      "{'a': 3, 'x': 4, 'sub': <function fun.<locals>.sub at 0x000001BC7D94A4C0>, 'b': 3}\n"
     ]
    }
   ],
   "source": [
    "# global declartion\n",
    "\n",
    "x=1\n",
    "\n",
    "def fun(a):\n",
    "    b = 3\n",
    "    x = 4\n",
    "    def sub(c):\n",
    "        d = b\n",
    "        x = 7\n",
    "        print(\"Nested Function\")\n",
    "        print(\"x value = \", x)\n",
    "        print(locals())\n",
    "     ##   print((\"\\n Globals\")\n",
    "        print(globals())\n",
    "\n",
    "        \n",
    "    sub(5)\n",
    "    print (\"b value = \", b)\n",
    "    print(\"x value = \", x)\n",
    "    print(locals())\n",
    "\n",
    "    \n",
    "fun(3)"
   ]
  },
  {
   "cell_type": "code",
   "execution_count": 23,
   "metadata": {},
   "outputs": [
    {
     "name": "stdout",
     "output_type": "stream",
     "text": [
      "12\n",
      "12\n"
     ]
    }
   ],
   "source": [
    "# lambda function\n",
    "\n",
    "def func(x, y, z) : return x+y+z\n",
    "\n",
    "print(func(3,4,5))\n",
    "\n",
    "print (func(*(3,4,5)))"
   ]
  },
  {
   "cell_type": "code",
   "execution_count": 24,
   "metadata": {},
   "outputs": [
    {
     "name": "stdout",
     "output_type": "stream",
     "text": [
      "12\n"
     ]
    }
   ],
   "source": [
    "f = lambda x,y,z : x+y+z\n",
    "print(f(3,4,5))"
   ]
  },
  {
   "cell_type": "code",
   "execution_count": 26,
   "metadata": {},
   "outputs": [
    {
     "name": "stdout",
     "output_type": "stream",
     "text": [
      "[2, 3, 4, 5, 6, 7]\n"
     ]
    }
   ],
   "source": [
    "aList = [1,2,3,4,5,6,7,8,9]\n",
    "low = 3\n",
    "high = 8\n",
    "\n",
    "print(list(filter(lambda x, l = low, h = high : h > x > 1, aList)))"
   ]
  },
  {
   "cell_type": "code",
   "execution_count": 27,
   "metadata": {},
   "outputs": [
    {
     "name": "stdout",
     "output_type": "stream",
     "text": [
      "[0, 1, 4, 9, 16, 25]\n"
     ]
    }
   ],
   "source": [
    " print([x ** 2 for x in range (6)])"
   ]
  },
  {
   "cell_type": "code",
   "execution_count": 28,
   "metadata": {},
   "outputs": [],
   "source": [
    "def add2(x, y = 2) :\n",
    "    return x+y\n",
    "\n"
   ]
  },
  {
   "cell_type": "code",
   "execution_count": 29,
   "metadata": {},
   "outputs": [
    {
     "name": "stdout",
     "output_type": "stream",
     "text": [
      "1\n"
     ]
    }
   ],
   "source": [
    "## Factorial using lambda recurison\n",
    "\n",
    "def func(a):\n",
    "    if a==1 or a==0 :\n",
    "        return 1\n",
    "    else :\n",
    "        return (a*func(a-1))\n",
    "print(func(0))"
   ]
  },
  {
   "cell_type": "code",
   "execution_count": 30,
   "metadata": {},
   "outputs": [
    {
     "name": "stdout",
     "output_type": "stream",
     "text": [
      "720\n"
     ]
    }
   ],
   "source": [
    "## Factorial using lambda recurison\n",
    "\n",
    "\n",
    "f = lambda n : 1 if n==0 else n*f(n-1)\n",
    "print(f(6))"
   ]
  },
  {
   "cell_type": "code",
   "execution_count": null,
   "metadata": {},
   "outputs": [],
   "source": []
  }
 ],
 "metadata": {
  "kernelspec": {
   "display_name": "Python 3",
   "language": "python",
   "name": "python3"
  },
  "language_info": {
   "codemirror_mode": {
    "name": "ipython",
    "version": 3
   },
   "file_extension": ".py",
   "mimetype": "text/x-python",
   "name": "python",
   "nbconvert_exporter": "python",
   "pygments_lexer": "ipython3",
   "version": "3.8.5"
  }
 },
 "nbformat": 4,
 "nbformat_minor": 4
}
