{
 "cells": [
  {
   "cell_type": "code",
   "execution_count": 1,
   "metadata": {},
   "outputs": [
    {
     "name": "stdout",
     "output_type": "stream",
     "text": [
      "Hello IBM\n"
     ]
    }
   ],
   "source": [
    "print(\"Hello IBM\")"
   ]
  },
  {
   "cell_type": "code",
   "execution_count": 2,
   "metadata": {},
   "outputs": [
    {
     "name": "stdout",
     "output_type": "stream",
     "text": [
      "Variables declaration and printing\n",
      "another var\n"
     ]
    }
   ],
   "source": [
    "a =\"Variables declaration and printing\"\n",
    "print(a)\n",
    "\n",
    "b=\"another var\"\n",
    "print(b)\n"
   ]
  },
  {
   "cell_type": "code",
   "execution_count": 3,
   "metadata": {},
   "outputs": [
    {
     "name": "stdout",
     "output_type": "stream",
     "text": [
      "100\n",
      "1000.0\n"
     ]
    }
   ],
   "source": [
    "counter =100\n",
    "miles =1000.00\n",
    "\n",
    "print(counter)\n",
    "print(miles)\n"
   ]
  },
  {
   "cell_type": "code",
   "execution_count": 4,
   "metadata": {},
   "outputs": [
    {
     "name": "stdout",
     "output_type": "stream",
     "text": [
      "100\n",
      "100\n",
      "100\n"
     ]
    }
   ],
   "source": [
    "x=y=z=100\n",
    "\n",
    "print(x)\n",
    "print(y)\n",
    "print(z)\n"
   ]
  },
  {
   "cell_type": "code",
   "execution_count": 5,
   "metadata": {},
   "outputs": [
    {
     "name": "stdout",
     "output_type": "stream",
     "text": [
      "sreenu\n",
      "24\n",
      "madanapalle\n"
     ]
    }
   ],
   "source": [
    "name,age,address=\"sreenu\",\"24\",\"madanapalle\"\n",
    "\n",
    "print(name)\n",
    "print(age)\n",
    "print(address)\n"
   ]
  },
  {
   "cell_type": "code",
   "execution_count": 6,
   "metadata": {},
   "outputs": [
    {
     "name": "stdout",
     "output_type": "stream",
     "text": [
      "Vishnupriya G vishnu priya\n",
      "V\n",
      "shn\n"
     ]
    }
   ],
   "source": [
    "str=\"Vishnupriya G vishnu priya\"\n",
    "\n",
    "print(str)\n",
    "print(str[0])\n",
    "print(str[2:5])\n"
   ]
  },
  {
   "cell_type": "code",
   "execution_count": 11,
   "metadata": {},
   "outputs": [
    {
     "name": "stdout",
     "output_type": "stream",
     "text": [
      "this is one\n",
      "this is two\n",
      "{'name': 'seenu', 'code': 1728, 'dept': 'ceo'}\n",
      "dict_keys(['name', 'code', 'dept'])\n",
      "dict_values(['seenu', 1728, 'ceo'])\n"
     ]
    }
   ],
   "source": [
    "dict ={}\n",
    "dict['one']=\"this is one\"\n",
    "dict[2]=\"this is two\"\n",
    "\n",
    "tinydict={'name':'seenu','code':1728,'dept':'ceo'}\n",
    "print(dict['one'])\n",
    "print(dict[2])\n",
    "print(tinydict)\n",
    "print(tinydict.keys())\n",
    "print(tinydict.values())"
   ]
  },
  {
   "cell_type": "code",
   "execution_count": null,
   "metadata": {},
   "outputs": [],
   "source": []
  },
  {
   "cell_type": "code",
   "execution_count": 12,
   "metadata": {},
   "outputs": [
    {
     "name": "stdout",
     "output_type": "stream",
     "text": [
      "value expression is 400\n",
      "bye\n"
     ]
    }
   ],
   "source": [
    "var = 400\n",
    "if(var == 400) : print(\"value expression is 400\")\n",
    "print(\"bye\")\n"
   ]
  },
  {
   "cell_type": "code",
   "execution_count": 14,
   "metadata": {},
   "outputs": [
    {
     "name": "stdout",
     "output_type": "stream",
     "text": [
      "3\n"
     ]
    }
   ],
   "source": [
    "x,y =4,3\n",
    "\n",
    "if x < y :\n",
    "    smaller = x\n",
    "else :\n",
    "    smaller = y\n",
    "    \n",
    "print(smaller)"
   ]
  },
  {
   "cell_type": "code",
   "execution_count": 15,
   "metadata": {},
   "outputs": [
    {
     "name": "stdout",
     "output_type": "stream",
     "text": [
      "3\n"
     ]
    }
   ],
   "source": [
    "smaller = (x < y and [x] or [y])[0]\n",
    "print(smaller)\n"
   ]
  },
  {
   "cell_type": "code",
   "execution_count": 17,
   "metadata": {},
   "outputs": [
    {
     "name": "stdout",
     "output_type": "stream",
     "text": [
      "3\n"
     ]
    }
   ],
   "source": [
    "smaller = x if x < y else y \n",
    "\n",
    "print(smaller)"
   ]
  },
  {
   "cell_type": "code",
   "execution_count": 18,
   "metadata": {},
   "outputs": [
    {
     "name": "stdout",
     "output_type": "stream",
     "text": [
      "negative number\n"
     ]
    }
   ],
   "source": [
    "num = -17\n",
    "\n",
    "if num > 0 :\n",
    "    print(\"postive number\")\n",
    "else :\n",
    "    print(\"negative number\")"
   ]
  },
  {
   "cell_type": "code",
   "execution_count": 21,
   "metadata": {},
   "outputs": [
    {
     "name": "stdout",
     "output_type": "stream",
     "text": [
      "negative number\n"
     ]
    }
   ],
   "source": [
    "for letter in \"python\" :\n",
    "    print(\"Current letter :\" , letter)\n",
    "    "
   ]
  },
  {
   "cell_type": "code",
   "execution_count": 22,
   "metadata": {},
   "outputs": [
    {
     "name": "stdout",
     "output_type": "stream",
     "text": [
      "odd number\n"
     ]
    }
   ],
   "source": [
    "num = -17\n",
    "\n",
    "if num%2==0:\n",
    "    print(\"even number\")\n",
    "else :\n",
    "    print(\"odd number\")"
   ]
  },
  {
   "cell_type": "code",
   "execution_count": 23,
   "metadata": {},
   "outputs": [
    {
     "name": "stdout",
     "output_type": "stream",
     "text": [
      "what is ur nameseenu\n",
      "hello other\n"
     ]
    }
   ],
   "source": [
    "name = input(\"what is ur name\")\n",
    "\n",
    "if(name.endswith(\"priya\")):\n",
    "    print(\"hi, mr. seenu\")\n",
    "else:\n",
    "    print(\"hello other\")"
   ]
  },
  {
   "cell_type": "code",
   "execution_count": 24,
   "metadata": {},
   "outputs": [
    {
     "name": "stdout",
     "output_type": "stream",
     "text": [
      "what is ur namepriya\n",
      "hi, mr. seenu\n"
     ]
    }
   ],
   "source": [
    "name = input(\"what is ur name\")\n",
    "\n",
    "if(name.endswith(\"priya\")):\n",
    "    print(\"hi, mr. seenu\")\n",
    "else:\n",
    "    print(\"hello other\")"
   ]
  },
  {
   "cell_type": "code",
   "execution_count": 26,
   "metadata": {},
   "outputs": [
    {
     "name": "stdout",
     "output_type": "stream",
     "text": [
      "the count is : 0\n",
      "the count is : 1\n",
      "the count is : 2\n",
      "the count is : 3\n",
      "the count is : 4\n",
      "the count is : 5\n",
      "the count is : 6\n",
      "the count is : 7\n",
      "the count is : 8\n",
      "end\n"
     ]
    }
   ],
   "source": [
    "count = 0\n",
    "while(count < 9) :\n",
    "    print(\"the count is :\", count)\n",
    "    count = count +1\n",
    "    \n",
    "print(\"end\")\n"
   ]
  },
  {
   "cell_type": "code",
   "execution_count": 27,
   "metadata": {},
   "outputs": [
    {
     "name": "stdout",
     "output_type": "stream",
     "text": [
      "the count is : 0\n",
      "the count is : 1\n",
      "the count is : 2\n",
      "the count is : 3\n",
      "the count is : 4\n",
      "the count is : 5\n",
      "the count is : 6\n",
      "the count is : 7\n",
      "the count is : 8\n",
      "9 is not less than 9\n"
     ]
    }
   ],
   "source": [
    "count = 0\n",
    "while(count < 9) :\n",
    "    print(\"the count is :\", count)\n",
    "    count = count +1\n",
    "else :\n",
    "    print(count,\"is not less than 9\")\n"
   ]
  },
  {
   "cell_type": "code",
   "execution_count": 28,
   "metadata": {},
   "outputs": [
    {
     "name": "stdout",
     "output_type": "stream",
     "text": [
      "Current letter : p\n",
      "Current letter : y\n",
      "Current letter : t\n",
      "Current letter : h\n",
      "Current letter : o\n",
      "Current letter : n\n"
     ]
    }
   ],
   "source": [
    "for letter in \"python\" :\n",
    "    print(\"Current letter :\" , letter)\n",
    "    "
   ]
  },
  {
   "cell_type": "code",
   "execution_count": 29,
   "metadata": {},
   "outputs": [
    {
     "name": "stdout",
     "output_type": "stream",
     "text": [
      "Current fruit : banana\n",
      "Current fruit : apple\n",
      "Current fruit : mango\n"
     ]
    }
   ],
   "source": [
    "fruits =[\"banana\",\"apple\",\"mango\"]\n",
    "\n",
    "for fruit in fruits:\n",
    "    print(\"Current fruit :\" ,fruit)\n",
    "    "
   ]
  },
  {
   "cell_type": "code",
   "execution_count": 33,
   "metadata": {},
   "outputs": [
    {
     "ename": "IndentationError",
     "evalue": "expected an indented block (<ipython-input-33-08e0bad23244>, line 6)",
     "output_type": "error",
     "traceback": [
      "\u001b[1;36m  File \u001b[1;32m\"<ipython-input-33-08e0bad23244>\"\u001b[1;36m, line \u001b[1;32m6\u001b[0m\n\u001b[1;33m    print(num, is not prime)\u001b[0m\n\u001b[1;37m    ^\u001b[0m\n\u001b[1;31mIndentationError\u001b[0m\u001b[1;31m:\u001b[0m expected an indented block\n"
     ]
    }
   ],
   "source": [
    "num = int=13\n",
    "\n",
    "if num > 1:\n",
    "    for i in range(2,num):\n",
    "        if (num % i) == 0:\n",
    "        print(num, is not prime)\n",
    "        break\n",
    "else :\n",
    "    print(num,\"is a prime \")"
   ]
  },
  {
   "cell_type": "code",
   "execution_count": 34,
   "metadata": {},
   "outputs": [
    {
     "name": "stdout",
     "output_type": "stream",
     "text": [
      "Current letter : p\n",
      "Current letter : y\n",
      "Current letter : t\n"
     ]
    }
   ],
   "source": [
    "for letter in \"python\" :\n",
    "    if letter == 'h' :\n",
    "        break\n",
    "    print(\"Current letter :\" , letter)\n",
    "    "
   ]
  },
  {
   "cell_type": "code",
   "execution_count": 35,
   "metadata": {},
   "outputs": [
    {
     "name": "stdout",
     "output_type": "stream",
     "text": [
      "Current letter : p\n",
      "Current letter : y\n",
      "Current letter : t\n",
      "Current letter : o\n",
      "Current letter : n\n"
     ]
    }
   ],
   "source": [
    "for letter in \"python\" :\n",
    "    if letter == 'h' :\n",
    "        continue\n",
    "    print(\"Current letter :\" , letter)\n",
    "    "
   ]
  },
  {
   "cell_type": "code",
   "execution_count": 36,
   "metadata": {},
   "outputs": [
    {
     "name": "stdout",
     "output_type": "stream",
     "text": [
      "1\n",
      "4\n",
      "7\n"
     ]
    }
   ],
   "source": [
    "num = 1\n",
    "while num < 10 :\n",
    "    print(num)\n",
    "    num=num+3\n",
    "    "
   ]
  },
  {
   "cell_type": "code",
   "execution_count": 37,
   "metadata": {},
   "outputs": [
    {
     "name": "stdout",
     "output_type": "stream",
     "text": [
      "Current letter : p\n",
      "Current letter : y\n",
      "Current letter : t\n",
      "added extra block execution\n",
      "Current letter : h\n",
      "Current letter : o\n",
      "Current letter : n\n"
     ]
    }
   ],
   "source": [
    "for letter in \"python\" :\n",
    "    if letter == 'h' :\n",
    "        pass\n",
    "        print(\"added extra block execution\")\n",
    "    print(\"Current letter :\" , letter)\n",
    "    "
   ]
  },
  {
   "cell_type": "code",
   "execution_count": 40,
   "metadata": {
    "scrolled": true
   },
   "outputs": [
    {
     "name": "stdout",
     "output_type": "stream",
     "text": [
      "120\n"
     ]
    }
   ],
   "source": [
    "choice = 'dal'\n",
    "print ({'rice': 55,\n",
    "      'dal' : 120,\n",
    "      'spices' : 200,\n",
    "      'fruits' : 100}[choice])"
   ]
  },
  {
   "cell_type": "code",
   "execution_count": 47,
   "metadata": {},
   "outputs": [
    {
     "name": "stdout",
     "output_type": "stream",
     "text": [
      "{8, 9, 3}\n"
     ]
    }
   ],
   "source": [
    "s=(1,17,28,-37,17.28,-77,{3,8,9,})\n",
    "print(s[6])\n",
    "\n"
   ]
  },
  {
   "cell_type": "code",
   "execution_count": 48,
   "metadata": {},
   "outputs": [
    {
     "name": "stdout",
     "output_type": "stream",
     "text": [
      "True\n",
      "True\n",
      "False\n",
      "True\n"
     ]
    }
   ],
   "source": [
    "print(True)\n",
    "print(True == 1)\n",
    "print(False)\n",
    "print(False == 0)"
   ]
  },
  {
   "cell_type": "code",
   "execution_count": 53,
   "metadata": {},
   "outputs": [
    {
     "name": "stdout",
     "output_type": "stream",
     "text": [
      "True\n",
      "42\n",
      "142\n",
      "42\n",
      "42\n"
     ]
    }
   ],
   "source": [
    "var = 42\n",
    "var2 = var < 100 \n",
    "\n",
    "print(var2)\n",
    "print(var)\n",
    "print(var + 100)\n",
    "\n",
    "print('%s' % var)\n",
    "print('%d' % var)"
   ]
  },
  {
   "cell_type": "code",
   "execution_count": 55,
   "metadata": {},
   "outputs": [
    {
     "name": "stdout",
     "output_type": "stream",
     "text": [
      "43\n",
      "-43\n"
     ]
    }
   ],
   "source": [
    "print(\"%d\" % 43)\n",
    "print(\"%d\" % -43)"
   ]
  },
  {
   "cell_type": "code",
   "execution_count": 56,
   "metadata": {},
   "outputs": [
    {
     "name": "stdout",
     "output_type": "stream",
     "text": [
      "we are at 100%\n"
     ]
    }
   ],
   "source": [
    "print (\"we are at %d%%\" % 100)"
   ]
  },
  {
   "cell_type": "code",
   "execution_count": 57,
   "metadata": {},
   "outputs": [
    {
     "name": "stdout",
     "output_type": "stream",
     "text": [
      "dec : 100 / oct : 0o144 / hex : 0X64\n"
     ]
    }
   ],
   "source": [
    "print('dec : %d / oct : %#o / hex : %#X' %(100,100,100))"
   ]
  },
  {
   "cell_type": "code",
   "execution_count": 58,
   "metadata": {},
   "outputs": [
    {
     "name": "stdout",
     "output_type": "stream",
     "text": [
      "1.1\n",
      "0.1\n",
      "9\n"
     ]
    },
    {
     "ename": "TypeError",
     "evalue": "unsupported operand type(s) for /: 'NoneType' and 'decimal.Decimal'",
     "output_type": "error",
     "traceback": [
      "\u001b[1;31m---------------------------------------------------------------------------\u001b[0m",
      "\u001b[1;31mTypeError\u001b[0m                                 Traceback (most recent call last)",
      "\u001b[1;32m<ipython-input-58-a2850ac32ad8>\u001b[0m in \u001b[0;36m<module>\u001b[1;34m\u001b[0m\n\u001b[0;32m      5\u001b[0m \u001b[0mprint\u001b[0m\u001b[1;33m(\u001b[0m\u001b[0mdecimal\u001b[0m\u001b[1;33m.\u001b[0m\u001b[0mDecimal\u001b[0m\u001b[1;33m(\u001b[0m\u001b[1;34m'.1'\u001b[0m\u001b[1;33m)\u001b[0m\u001b[1;33m)\u001b[0m\u001b[1;33m\u001b[0m\u001b[1;33m\u001b[0m\u001b[0m\n\u001b[0;32m      6\u001b[0m \u001b[1;33m\u001b[0m\u001b[0m\n\u001b[1;32m----> 7\u001b[1;33m \u001b[0mprint\u001b[0m\u001b[1;33m(\u001b[0m\u001b[0mdecimal\u001b[0m\u001b[1;33m.\u001b[0m\u001b[0mDecimal\u001b[0m\u001b[1;33m(\u001b[0m\u001b[1;34m'9'\u001b[0m\u001b[1;33m)\u001b[0m\u001b[1;33m)\u001b[0m\u001b[1;33m/\u001b[0m\u001b[1;33m(\u001b[0m\u001b[0mdecimal\u001b[0m\u001b[1;33m.\u001b[0m\u001b[0mDecimal\u001b[0m\u001b[1;33m(\u001b[0m\u001b[1;34m'3'\u001b[0m\u001b[1;33m)\u001b[0m\u001b[1;33m)\u001b[0m\u001b[1;33m\u001b[0m\u001b[1;33m\u001b[0m\u001b[0m\n\u001b[0m",
      "\u001b[1;31mTypeError\u001b[0m: unsupported operand type(s) for /: 'NoneType' and 'decimal.Decimal'"
     ]
    }
   ],
   "source": [
    "import decimal\n",
    "\n",
    "print(decimal.Decimal('1.1'))\n",
    "\n",
    "print(decimal.Decimal('.1'))\n",
    "\n",
    "print(decimal.Decimal('9'))/(decimal.Decimal('3'))"
   ]
  },
  {
   "cell_type": "code",
   "execution_count": 69,
   "metadata": {},
   "outputs": [
    {
     "name": "stdout",
     "output_type": "stream",
     "text": [
      "int(0)\t0,\n",
      "floor(0)\t0,\n",
      "round(0)\t0,\n",
      "int(1)\t0,\n",
      "floor(1)\t0,\n",
      "round(1)\t0,\n",
      "int(1)\t1,\n",
      "floor(1)\t1,\n",
      "round(1)\t1,\n",
      "int(-2)\t-2,\n",
      "floor(-2)\t-2,\n",
      "round(-2)\t-2,\n",
      "int(-1)\t0,\n",
      "floor(-1)\t0,\n",
      "round(-1)\t0,\n"
     ]
    }
   ],
   "source": [
    "import math\n",
    "\n",
    "for eachNum in (.2, .7, 1.2, -2, -.7) :\n",
    "    print(\"int(%.lf)\\t%.lf,\" % (eachNum, float(int(eachNum))))\n",
    "    \n",
    "    print(\"floor(%.lf)\\t%.lf,\" % (eachNum, math.floor(int(eachNum))))\n",
    "     \n",
    "    print(\"round(%.lf)\\t%.lf,\" % (eachNum, round(int(eachNum))))"
   ]
  },
  {
   "cell_type": "code",
   "execution_count": 70,
   "metadata": {},
   "outputs": [
    {
     "name": "stdout",
     "output_type": "stream",
     "text": [
      "Pi value : 3.14159\n"
     ]
    }
   ],
   "source": [
    "from math import pi\n",
    "\n",
    "format = \"Pi value : %.5f\"\n",
    "\n",
    "print(format % pi)"
   ]
  },
  {
   "cell_type": "code",
   "execution_count": 78,
   "metadata": {},
   "outputs": [
    {
     "name": "stdout",
     "output_type": "stream",
     "text": [
      "Example statement to teststring apis\n",
      "aaexample statement to teststring apisaa\n",
      "--example statement to teststring apis--\n",
      "-------example statement to teststring apis-------\n",
      "2\n",
      "1\n"
     ]
    }
   ],
   "source": [
    "str = \"example statement to teststring apis\"\n",
    "\n",
    "print(str.capitalize())\n",
    "print(str.center(40, 'a'))\n",
    "print(str.center(40, '-'))\n",
    "print(str.center(50, '-'))\n",
    "\n",
    "sub = 'i'\n",
    "print(str.count(sub,4,40))\n",
    "\n",
    "sub1 = 'api'\n",
    "print(str.count(sub1))\n"
   ]
  },
  {
   "cell_type": "code",
   "execution_count": 79,
   "metadata": {},
   "outputs": [
    {
     "name": "stdout",
     "output_type": "stream",
     "text": [
      "False\n",
      "False\n",
      "True\n",
      "False\n"
     ]
    }
   ],
   "source": [
    "str = \"this is string example .... wow!!!\";\n",
    "\n",
    "suffix =\"wow!!\";\n",
    "print (str.endswith(suffix))\n",
    "print (str.endswith(suffix,20))\n",
    "\n",
    "suffix =\"is\";\n",
    "print (str.endswith(suffix,2, 4))\n",
    "print (str.endswith(suffix,2, 6))\n"
   ]
  },
  {
   "cell_type": "code",
   "execution_count": 84,
   "metadata": {},
   "outputs": [
    {
     "name": "stdout",
     "output_type": "stream",
     "text": [
      "Original string :this is\tstring example .... wow!!!\n",
      "Defualt exapanded tab : this is string example .... wow!!!\n",
      "Double exapanded tab :this is         string example .... wow!!!\n"
     ]
    }
   ],
   "source": [
    "str = \"this is\\tstring example .... wow!!!\";\n",
    "\n",
    "print (\"Original string :\" +str)\n",
    "print (\"Defualt exapanded tab : \" +str.expandtabs())\n",
    "print (\"Double exapanded tab :\" +str.expandtabs(16))\n"
   ]
  },
  {
   "cell_type": "code",
   "execution_count": 92,
   "metadata": {},
   "outputs": [
    {
     "name": "stdout",
     "output_type": "stream",
     "text": [
      "15\n",
      "15\n",
      "-1\n",
      "-1\n"
     ]
    }
   ],
   "source": [
    "str1 = \"this is string example ........ wow!!!\";\n",
    "str2 = \"exam\";\n",
    "\n",
    "print(str1.find(str2))\n",
    "print(str1.find(str2,10))\n",
    "print(str1.find(str2,40))\n",
    "print(str1.find(str2,16))"
   ]
  },
  {
   "cell_type": "code",
   "execution_count": 93,
   "metadata": {},
   "outputs": [
    {
     "name": "stdout",
     "output_type": "stream",
     "text": [
      "e\n",
      "4\n",
      "22\n"
     ]
    }
   ],
   "source": [
    "print ('Hello'[1])\n",
    "\n",
    "searchStr = \"Red Blue Violet Green Blue Yellow Black\"\n",
    "\n",
    "print (searchStr.index(\"Blue\"))\n",
    "\n",
    "searchStr =\"Red Blue Violet Green Blue Yellow Black\"\n",
    "\n",
    "print (searchStr.index(\"Blue\",20))\n"
   ]
  },
  {
   "cell_type": "code",
   "execution_count": 95,
   "metadata": {},
   "outputs": [
    {
     "ename": "SyntaxError",
     "evalue": "invalid syntax (<ipython-input-95-30cc6f6c8294>, line 3)",
     "output_type": "error",
     "traceback": [
      "\u001b[1;36m  File \u001b[1;32m\"<ipython-input-95-30cc6f6c8294>\"\u001b[1;36m, line \u001b[1;32m3\u001b[0m\n\u001b[1;33m    print(\"String is :\" string1)\u001b[0m\n\u001b[1;37m                        ^\u001b[0m\n\u001b[1;31mSyntaxError\u001b[0m\u001b[1;31m:\u001b[0m invalid syntax\n"
     ]
    }
   ],
   "source": [
    "string1 =\"A, B, C, D, E, F\"\n",
    "\n",
    "print(\"String is :\" string1)\n"
   ]
  },
  {
   "cell_type": "code",
   "execution_count": null,
   "metadata": {},
   "outputs": [],
   "source": []
  },
  {
   "cell_type": "code",
   "execution_count": 97,
   "metadata": {},
   "outputs": [
    {
     "name": "stdout",
     "output_type": "stream",
     "text": [
      "String is : A, B, C, D, E, F\n",
      "split String by spaces : ['A,', 'B,', 'C,', 'D,', 'E,', 'F']\n",
      "split String by commas : ['A, B, C, D, E, F']\n",
      "split String by commas, max 2 : ['A', ' B', ' C, D, E, F']\n"
     ]
    }
   ],
   "source": [
    "string1 =\"A, B, C, D, E, F\"\n",
    "\n",
    "print (\"String is :\", string1)\n",
    "print (\"split String by spaces :\", string1.split())\n",
    "print (\"split String by commas :\", string1.split(\" ,\"))\n",
    "print (\"split String by commas, max 2 :\", string1.split(\",\",2))"
   ]
  },
  {
   "cell_type": "code",
   "execution_count": 101,
   "metadata": {},
   "outputs": [
    {
     "name": "stdout",
     "output_type": "stream",
     "text": [
      "List is : ['A', 'B', 'C', 'D', 'E', 'F']\n",
      "Joining with \"___\": A___B___C___D___E___F\n"
     ]
    },
    {
     "ename": "AttributeError",
     "evalue": "'str' object has no attribute 'Join'",
     "output_type": "error",
     "traceback": [
      "\u001b[1;31m---------------------------------------------------------------------------\u001b[0m",
      "\u001b[1;31mAttributeError\u001b[0m                            Traceback (most recent call last)",
      "\u001b[1;32m<ipython-input-101-a30e55efdfac>\u001b[0m in \u001b[0;36m<module>\u001b[1;34m\u001b[0m\n\u001b[0;32m      5\u001b[0m print ('Joining with \"%s\": %s' \\\n\u001b[0;32m      6\u001b[0m     % ( string2,string2.join (list1) ))\n\u001b[1;32m----> 7\u001b[1;33m \u001b[0mprint\u001b[0m \u001b[1;33m(\u001b[0m\u001b[1;34m'Joining with \"-.-\":'\u001b[0m\u001b[1;33m,\u001b[0m \u001b[1;34m\"-.-\"\u001b[0m\u001b[1;33m.\u001b[0m\u001b[0mJoin\u001b[0m\u001b[1;33m(\u001b[0m\u001b[0mlist1\u001b[0m \u001b[1;33m)\u001b[0m\u001b[1;33m)\u001b[0m\u001b[1;33m\u001b[0m\u001b[1;33m\u001b[0m\u001b[0m\n\u001b[0m\u001b[0;32m      8\u001b[0m \u001b[1;33m\u001b[0m\u001b[0m\n\u001b[0;32m      9\u001b[0m \u001b[1;33m\u001b[0m\u001b[0m\n",
      "\u001b[1;31mAttributeError\u001b[0m: 'str' object has no attribute 'Join'"
     ]
    }
   ],
   "source": [
    "list1 =[\"A\", \"B\", \"C\", \"D\", \"E\", \"F\"]\n",
    "string2 =\"___\"\n",
    "\n",
    "print (\"List is :\" , list1)\n",
    "print ('Joining with \"%s\": %s' \\\n",
    "    % ( string2,string2.join (list1) ))\n",
    "print ('Joining with \"-.-\":', \"-.-\".Join(list1 ))   \n",
    "       \n",
    "       \n",
    "print(''.Join(list('hello')))"
   ]
  },
  {
   "cell_type": "code",
   "execution_count": 5,
   "metadata": {},
   "outputs": [
    {
     "name": "stdout",
     "output_type": "stream",
     "text": [
      "Words:Afewgoodwords\n",
      "List:A few more good words\n"
     ]
    }
   ],
   "source": [
    "word1 =\"A\"\n",
    "word2 =\"few\"\n",
    "word3 =\"good\"\n",
    "word4 =\"words\"\n",
    "wordList = [\"A\", \"few\",\"more\",\"good\",\"words\"] \n",
    "\n",
    "print (\"Words:\" + word1 + word2 + word3 +word4)\n",
    "print (\"List:\" + ' ' .join(wordList))\n"
   ]
  },
  {
   "cell_type": "code",
   "execution_count": 4,
   "metadata": {},
   "outputs": [
    {
     "name": "stdout",
     "output_type": "stream",
     "text": [
      "Second: A few more good words.\n"
     ]
    }
   ],
   "source": [
    "sentence = \"Second:\"\n",
    "for word in wordList :\n",
    "    sentence += \" \" + word\n",
    "sentence += \".\"\n",
    "print (sentence)"
   ]
  },
  {
   "cell_type": "code",
   "execution_count": 7,
   "metadata": {},
   "outputs": [
    {
     "name": "stdout",
     "output_type": "stream",
     "text": [
      "sentence:seenu vishnupriya \n",
      "18\n"
     ]
    }
   ],
   "source": [
    "sentence = input(\"sentence:\")\n",
    "text_width = len(sentence)\n",
    "print (text_width)\n"
   ]
  },
  {
   "cell_type": "code",
   "execution_count": 9,
   "metadata": {},
   "outputs": [
    {
     "name": "stdout",
     "output_type": "stream",
     "text": [
      "a (0)\n",
      "b (1)\n",
      "c (2)\n"
     ]
    }
   ],
   "source": [
    "foo ='abc'\n",
    "for i in range(len(foo)):\n",
    "    print (foo[i],'(%d)' % i)\n",
    "    "
   ]
  },
  {
   "cell_type": "code",
   "execution_count": 14,
   "metadata": {},
   "outputs": [
    {
     "name": "stdout",
     "output_type": "stream",
     "text": [
      "abcd\n",
      "abc\n",
      "ab\n",
      "a\n",
      "cat 3\n",
      "window 6\n",
      "defenestrate 12\n",
      ":\n",
      "Hex String : 3F8\n",
      "buildConnectionString         \n",
      "buildConnectionString\n"
     ]
    }
   ],
   "source": [
    "s= 'abcde'\n",
    "i=-1\n",
    "for i in range(-1, -len(s), -1):\n",
    "    print(s[:i])\n",
    "    \n",
    "    \n",
    "aString = 'abcd'\n",
    "final_index  = len(aString) - 1\n",
    "\n",
    "a = ['cat', 'window','defenestrate']\n",
    "for x in a :\n",
    "    print (x, len(x))\n",
    "    \n",
    "    \n",
    "hexStr = \"3f8\"\n",
    "\n",
    "print ( \":\\nHex String : \" + hexStr.upper().ljust(0,'O'))\n",
    "       \n",
    "       \n",
    "s ='buildConnectionString'\n",
    "print (s.ljust(30))\n",
    "print (s.ljust(20))\n",
    "       "
   ]
  },
  {
   "cell_type": "code",
   "execution_count": null,
   "metadata": {},
   "outputs": [],
   "source": []
  },
  {
   "cell_type": "code",
   "execution_count": 16,
   "metadata": {},
   "outputs": [
    {
     "name": "stdout",
     "output_type": "stream",
     "text": [
      "trondheim hammer dance\n"
     ]
    },
    {
     "ename": "AttributeError",
     "evalue": "'list' object has no attribute 'lower'",
     "output_type": "error",
     "traceback": [
      "\u001b[1;31m---------------------------------------------------------------------------\u001b[0m",
      "\u001b[1;31mAttributeError\u001b[0m                            Traceback (most recent call last)",
      "\u001b[1;32m<ipython-input-16-1f072bed6013>\u001b[0m in \u001b[0;36m<module>\u001b[1;34m\u001b[0m\n\u001b[0;32m      4\u001b[0m \u001b[0mname\u001b[0m \u001b[1;33m=\u001b[0m\u001b[1;34m'gumby'\u001b[0m\u001b[1;33m\u001b[0m\u001b[1;33m\u001b[0m\u001b[0m\n\u001b[0;32m      5\u001b[0m \u001b[0mname\u001b[0m \u001b[1;33m=\u001b[0m\u001b[1;33m[\u001b[0m\u001b[1;34m'gumby'\u001b[0m\u001b[1;33m,\u001b[0m\u001b[1;34m'smith'\u001b[0m\u001b[1;33m,\u001b[0m\u001b[1;34m'jones'\u001b[0m\u001b[1;33m]\u001b[0m\u001b[1;33m\u001b[0m\u001b[1;33m\u001b[0m\u001b[0m\n\u001b[1;32m----> 6\u001b[1;33m \u001b[1;32mif\u001b[0m \u001b[0mname\u001b[0m\u001b[1;33m.\u001b[0m\u001b[0mlower\u001b[0m\u001b[1;33m(\u001b[0m\u001b[1;33m)\u001b[0m \u001b[1;32min\u001b[0m \u001b[0mnames\u001b[0m\u001b[1;33m:\u001b[0m \u001b[0mprint\u001b[0m \u001b[1;33m(\u001b[0m\u001b[1;34m'Found it!'\u001b[0m\u001b[1;33m)\u001b[0m\u001b[1;33m\u001b[0m\u001b[1;33m\u001b[0m\u001b[0m\n\u001b[0m",
      "\u001b[1;31mAttributeError\u001b[0m: 'list' object has no attribute 'lower'"
     ]
    }
   ],
   "source": [
    "print ('Trondheim Hammer Dance'.lower())\n",
    "\n",
    "\n",
    "name ='gumby'\n",
    "name =['gumby','smith','jones']\n",
    "if name.lower() in names: print ('Found it!')"
   ]
  },
  {
   "cell_type": "code",
   "execution_count": 17,
   "metadata": {},
   "outputs": [
    {
     "name": "stdout",
     "output_type": "stream",
     "text": [
      "enter ur name : seenu\n",
      "You entered :seenu\n"
     ]
    }
   ],
   "source": [
    "try :\n",
    "    name = input(\"enter ur name : \")\n",
    "    print(\"You entered :\" + name )\n",
    "except KeyboardIntrrupt:\n",
    "    print(\"you hit control c\")\n",
    "    "
   ]
  },
  {
   "cell_type": "code",
   "execution_count": 19,
   "metadata": {},
   "outputs": [
    {
     "ename": "KeyError",
     "evalue": "'neykey'",
     "output_type": "error",
     "traceback": [
      "\u001b[1;31m---------------------------------------------------------------------------\u001b[0m",
      "\u001b[1;31mKeyError\u001b[0m                                  Traceback (most recent call last)",
      "\u001b[1;32m<ipython-input-19-f2267a71e721>\u001b[0m in \u001b[0;36m<module>\u001b[1;34m\u001b[0m\n\u001b[0;32m      1\u001b[0m \u001b[0madict\u001b[0m \u001b[1;33m=\u001b[0m \u001b[1;33m{\u001b[0m\u001b[1;34m\"a\"\u001b[0m\u001b[1;33m:\u001b[0m\u001b[1;34m\"aval\"\u001b[0m\u001b[1;33m,\u001b[0m\u001b[1;34m\"b\"\u001b[0m\u001b[1;33m:\u001b[0m\u001b[1;34m\"bval\"\u001b[0m\u001b[1;33m}\u001b[0m\u001b[1;33m\u001b[0m\u001b[1;33m\u001b[0m\u001b[0m\n\u001b[1;32m----> 2\u001b[1;33m \u001b[0mprint\u001b[0m\u001b[1;33m(\u001b[0m\u001b[0madict\u001b[0m\u001b[1;33m[\u001b[0m\u001b[1;34m'neykey'\u001b[0m\u001b[1;33m]\u001b[0m\u001b[1;33m)\u001b[0m\u001b[1;33m\u001b[0m\u001b[1;33m\u001b[0m\u001b[0m\n\u001b[0m",
      "\u001b[1;31mKeyError\u001b[0m: 'neykey'"
     ]
    }
   ],
   "source": [
    "adict = {\"a\":\"aval\",\"b\":\"bval\"}\n",
    "print(adict['neykey'])"
   ]
  },
  {
   "cell_type": "code",
   "execution_count": 20,
   "metadata": {},
   "outputs": [
    {
     "ename": "ZeroDivisionError",
     "evalue": "division by zero",
     "output_type": "error",
     "traceback": [
      "\u001b[1;31m---------------------------------------------------------------------------\u001b[0m",
      "\u001b[1;31mZeroDivisionError\u001b[0m                         Traceback (most recent call last)",
      "\u001b[1;32m<ipython-input-20-5be59c97e00b>\u001b[0m in \u001b[0;36m<module>\u001b[1;34m\u001b[0m\n\u001b[1;32m----> 1\u001b[1;33m \u001b[0mprint\u001b[0m\u001b[1;33m(\u001b[0m\u001b[1;36m100\u001b[0m\u001b[1;33m/\u001b[0m\u001b[1;36m0\u001b[0m\u001b[1;33m)\u001b[0m\u001b[1;33m\u001b[0m\u001b[1;33m\u001b[0m\u001b[0m\n\u001b[0m",
      "\u001b[1;31mZeroDivisionError\u001b[0m: division by zero"
     ]
    }
   ],
   "source": [
    "print(100/0)"
   ]
  },
  {
   "cell_type": "code",
   "execution_count": 21,
   "metadata": {},
   "outputs": [
    {
     "ename": "IndexError",
     "evalue": "list index out of range",
     "output_type": "error",
     "traceback": [
      "\u001b[1;31m---------------------------------------------------------------------------\u001b[0m",
      "\u001b[1;31mIndexError\u001b[0m                                Traceback (most recent call last)",
      "\u001b[1;32m<ipython-input-21-249f8f9c1583>\u001b[0m in \u001b[0;36m<module>\u001b[1;34m\u001b[0m\n\u001b[0;32m      1\u001b[0m \u001b[0malist\u001b[0m \u001b[1;33m=\u001b[0m \u001b[1;33m[\u001b[0m\u001b[1;33m]\u001b[0m\u001b[1;33m\u001b[0m\u001b[1;33m\u001b[0m\u001b[0m\n\u001b[1;32m----> 2\u001b[1;33m \u001b[0mprint\u001b[0m\u001b[1;33m(\u001b[0m\u001b[0malist\u001b[0m\u001b[1;33m[\u001b[0m\u001b[1;36m1\u001b[0m\u001b[1;33m]\u001b[0m\u001b[1;33m)\u001b[0m\u001b[1;33m\u001b[0m\u001b[1;33m\u001b[0m\u001b[0m\n\u001b[0m",
      "\u001b[1;31mIndexError\u001b[0m: list index out of range"
     ]
    }
   ],
   "source": [
    "alist = []\n",
    "print(alist[1])"
   ]
  },
  {
   "cell_type": "code",
   "execution_count": 22,
   "metadata": {},
   "outputs": [
    {
     "ename": "FileNotFoundError",
     "evalue": "[Errno 2] No such file or directory: 'a.txt'",
     "output_type": "error",
     "traceback": [
      "\u001b[1;31m---------------------------------------------------------------------------\u001b[0m",
      "\u001b[1;31mFileNotFoundError\u001b[0m                         Traceback (most recent call last)",
      "\u001b[1;32m<ipython-input-22-b10c97c14ed1>\u001b[0m in \u001b[0;36m<module>\u001b[1;34m\u001b[0m\n\u001b[1;32m----> 1\u001b[1;33m \u001b[0mf\u001b[0m\u001b[1;33m=\u001b[0m \u001b[0mopen\u001b[0m\u001b[1;33m(\u001b[0m\u001b[1;34m\"a.txt\"\u001b[0m\u001b[1;33m)\u001b[0m\u001b[1;33m\u001b[0m\u001b[1;33m\u001b[0m\u001b[0m\n\u001b[0m",
      "\u001b[1;31mFileNotFoundError\u001b[0m: [Errno 2] No such file or directory: 'a.txt'"
     ]
    }
   ],
   "source": [
    "f= open(\"a.txt\")"
   ]
  },
  {
   "cell_type": "code",
   "execution_count": 28,
   "metadata": {},
   "outputs": [
    {
     "name": "stdout",
     "output_type": "stream",
     "text": [
      "enter some number : sa1728\n",
      "They did not look like number\n"
     ]
    }
   ],
   "source": [
    "try :\n",
    "    x = input (\"enter some number : \")\n",
    "    y = int(x)\n",
    "    print(\"your number \" , y)\n",
    "except (TypeError,ValueError) :\n",
    "    print(\"They did not look like number\")\n",
    "    "
   ]
  },
  {
   "cell_type": "code",
   "execution_count": 31,
   "metadata": {},
   "outputs": [
    {
     "name": "stdout",
     "output_type": "stream",
     "text": [
      "[Errno 2] No such file or directory: 'blah'\n"
     ]
    }
   ],
   "source": [
    "try :\n",
    "    f = open(\"blah\",'r')\n",
    "except IOError as e :\n",
    "    print (e)\n",
    "    "
   ]
  },
  {
   "cell_type": "code",
   "execution_count": 33,
   "metadata": {},
   "outputs": [
    {
     "name": "stdout",
     "output_type": "stream",
     "text": [
      "12345.0\n",
      "12345.0\n",
      "1.2345e+69\n"
     ]
    },
    {
     "ename": "ValueError",
     "evalue": "could not convert string to float: 'hello world'",
     "output_type": "error",
     "traceback": [
      "\u001b[1;31m---------------------------------------------------------------------------\u001b[0m",
      "\u001b[1;31mValueError\u001b[0m                                Traceback (most recent call last)",
      "\u001b[1;32m<ipython-input-33-cb793abf7c9f>\u001b[0m in \u001b[0;36m<module>\u001b[1;34m\u001b[0m\n\u001b[0;32m      2\u001b[0m \u001b[0mprint\u001b[0m\u001b[1;33m(\u001b[0m\u001b[0mfloat\u001b[0m\u001b[1;33m(\u001b[0m\u001b[1;34m'12345'\u001b[0m\u001b[1;33m)\u001b[0m\u001b[1;33m)\u001b[0m\u001b[1;33m\u001b[0m\u001b[1;33m\u001b[0m\u001b[0m\n\u001b[0;32m      3\u001b[0m \u001b[0mprint\u001b[0m\u001b[1;33m(\u001b[0m\u001b[0mfloat\u001b[0m\u001b[1;33m(\u001b[0m\u001b[1;36m123.45e67\u001b[0m\u001b[1;33m)\u001b[0m\u001b[1;33m)\u001b[0m\u001b[1;33m\u001b[0m\u001b[1;33m\u001b[0m\u001b[0m\n\u001b[1;32m----> 4\u001b[1;33m \u001b[0mprint\u001b[0m\u001b[1;33m(\u001b[0m\u001b[0mfloat\u001b[0m\u001b[1;33m(\u001b[0m\u001b[1;34m'hello world'\u001b[0m\u001b[1;33m)\u001b[0m\u001b[1;33m)\u001b[0m\u001b[1;33m\u001b[0m\u001b[1;33m\u001b[0m\u001b[0m\n\u001b[0m",
      "\u001b[1;31mValueError\u001b[0m: could not convert string to float: 'hello world'"
     ]
    }
   ],
   "source": [
    "print(float(12345))\n",
    "print(float('12345'))\n",
    "print(float(123.45e67))\n",
    "print(float('hello world'))"
   ]
  },
  {
   "cell_type": "code",
   "execution_count": 35,
   "metadata": {},
   "outputs": [
    {
     "name": "stdout",
     "output_type": "stream",
     "text": [
      "123.2\n",
      "could not convert due to wrong input\n"
     ]
    }
   ],
   "source": [
    "def safe_float(obj) :\n",
    "    try :\n",
    "        retval = float(obj)\n",
    "    except ValueError :\n",
    "        retval = \"could not convert due to wrong input\"\n",
    "    return retval\n",
    "\n",
    "print(safe_float('123.2'))\n",
    "print(safe_float('bad input '))\n"
   ]
  },
  {
   "cell_type": "code",
   "execution_count": 37,
   "metadata": {},
   "outputs": [
    {
     "name": "stdout",
     "output_type": "stream",
     "text": [
      "IO Error 2 : No such file or directory\n"
     ]
    }
   ],
   "source": [
    "import sys\n",
    "\n",
    "try :\n",
    "    f = open('intergers.txt')\n",
    "    s = f.readline()\n",
    "    i = int(s.strip())\n",
    "except IOError as e :\n",
    "    errno, strerror = e.args\n",
    "    print(\"IO Error {0} : {1}\".format(errno,strerror) )\n",
    "except ValueError :\n",
    "    print(\"No Valid integer\")\n",
    "except :\n",
    "    print(\"Unexpected error\")"
   ]
  },
  {
   "cell_type": "code",
   "execution_count": 39,
   "metadata": {},
   "outputs": [
    {
     "name": "stdout",
     "output_type": "stream",
     "text": [
      "Unexpected error\n"
     ]
    },
    {
     "ename": "ZeroDivisionError",
     "evalue": "division by zero",
     "output_type": "error",
     "traceback": [
      "\u001b[1;31m---------------------------------------------------------------------------\u001b[0m",
      "\u001b[1;31mZeroDivisionError\u001b[0m                         Traceback (most recent call last)",
      "\u001b[1;32m<ipython-input-39-352e37d8992e>\u001b[0m in \u001b[0;36m<module>\u001b[1;34m\u001b[0m\n\u001b[0;32m      1\u001b[0m \u001b[1;32mtry\u001b[0m \u001b[1;33m:\u001b[0m\u001b[1;33m\u001b[0m\u001b[1;33m\u001b[0m\u001b[0m\n\u001b[1;32m----> 2\u001b[1;33m     \u001b[0mprint\u001b[0m\u001b[1;33m(\u001b[0m\u001b[1;36m100\u001b[0m\u001b[1;33m/\u001b[0m\u001b[1;36m0\u001b[0m\u001b[1;33m)\u001b[0m\u001b[1;33m\u001b[0m\u001b[1;33m\u001b[0m\u001b[0m\n\u001b[0m\u001b[0;32m      3\u001b[0m     \u001b[0mf\u001b[0m \u001b[1;33m=\u001b[0m \u001b[0mopen\u001b[0m\u001b[1;33m(\u001b[0m\u001b[1;34m'intergers.txt'\u001b[0m\u001b[1;33m)\u001b[0m\u001b[1;33m\u001b[0m\u001b[1;33m\u001b[0m\u001b[0m\n\u001b[0;32m      4\u001b[0m     \u001b[0ms\u001b[0m \u001b[1;33m=\u001b[0m \u001b[0mf\u001b[0m\u001b[1;33m.\u001b[0m\u001b[0mreadline\u001b[0m\u001b[1;33m(\u001b[0m\u001b[1;33m)\u001b[0m\u001b[1;33m\u001b[0m\u001b[1;33m\u001b[0m\u001b[0m\n\u001b[0;32m      5\u001b[0m     \u001b[0mi\u001b[0m \u001b[1;33m=\u001b[0m \u001b[0mint\u001b[0m\u001b[1;33m(\u001b[0m\u001b[0ms\u001b[0m\u001b[1;33m.\u001b[0m\u001b[0mstrip\u001b[0m\u001b[1;33m(\u001b[0m\u001b[1;33m)\u001b[0m\u001b[1;33m)\u001b[0m\u001b[1;33m\u001b[0m\u001b[1;33m\u001b[0m\u001b[0m\n",
      "\u001b[1;31mZeroDivisionError\u001b[0m: division by zero"
     ]
    }
   ],
   "source": [
    "try :\n",
    "    print(100/0)\n",
    "    f = open('intergers.txt')\n",
    "    s = f.readline()\n",
    "    i = int(s.strip())\n",
    "except IOError as e :\n",
    "    errno, strerror = e.args\n",
    "    print(\"IO Error {0} : {1}\".format(errno,strerror) )\n",
    "except :\n",
    "    print(\"Unexpected error\")\n",
    "    raise"
   ]
  },
  {
   "cell_type": "code",
   "execution_count": 40,
   "metadata": {},
   "outputs": [
    {
     "name": "stdout",
     "output_type": "stream",
     "text": [
      "error: invalid literal for int() with base 10: 'hello'\n"
     ]
    }
   ],
   "source": [
    "def f() :\n",
    "    x = int(\"hello\")\n",
    "    \n",
    "    \n",
    "try :\n",
    "    f()\n",
    "except ValueError as e :\n",
    "    print(\"error:\", e)"
   ]
  },
  {
   "cell_type": "code",
   "execution_count": 42,
   "metadata": {},
   "outputs": [
    {
     "name": "stdout",
     "output_type": "stream",
     "text": [
      "your number :0\n",
      "finally this block exectes\n"
     ]
    },
    {
     "ename": "NameError",
     "evalue": "name 'zeroDivisionError' is not defined",
     "output_type": "error",
     "traceback": [
      "\u001b[1;31m---------------------------------------------------------------------------\u001b[0m",
      "\u001b[1;31mZeroDivisionError\u001b[0m                         Traceback (most recent call last)",
      "\u001b[1;32m<ipython-input-42-650b4feff34a>\u001b[0m in \u001b[0;36m<module>\u001b[1;34m\u001b[0m\n\u001b[0;32m      2\u001b[0m     \u001b[0mx\u001b[0m \u001b[1;33m=\u001b[0m \u001b[0mfloat\u001b[0m\u001b[1;33m(\u001b[0m\u001b[0minput\u001b[0m \u001b[1;33m(\u001b[0m\u001b[1;34m\"your number :\"\u001b[0m\u001b[1;33m)\u001b[0m\u001b[1;33m)\u001b[0m\u001b[1;33m\u001b[0m\u001b[1;33m\u001b[0m\u001b[0m\n\u001b[1;32m----> 3\u001b[1;33m     \u001b[0minverse\u001b[0m \u001b[1;33m=\u001b[0m \u001b[1;36m1.0\u001b[0m \u001b[1;33m/\u001b[0m \u001b[0mx\u001b[0m\u001b[1;33m\u001b[0m\u001b[1;33m\u001b[0m\u001b[0m\n\u001b[0m\u001b[0;32m      4\u001b[0m \u001b[1;32mexcept\u001b[0m \u001b[0mValueError\u001b[0m \u001b[1;33m:\u001b[0m\u001b[1;33m\u001b[0m\u001b[1;33m\u001b[0m\u001b[0m\n",
      "\u001b[1;31mZeroDivisionError\u001b[0m: float division by zero",
      "\nDuring handling of the above exception, another exception occurred:\n",
      "\u001b[1;31mNameError\u001b[0m                                 Traceback (most recent call last)",
      "\u001b[1;32m<ipython-input-42-650b4feff34a>\u001b[0m in \u001b[0;36m<module>\u001b[1;34m\u001b[0m\n\u001b[0;32m      4\u001b[0m \u001b[1;32mexcept\u001b[0m \u001b[0mValueError\u001b[0m \u001b[1;33m:\u001b[0m\u001b[1;33m\u001b[0m\u001b[1;33m\u001b[0m\u001b[0m\n\u001b[0;32m      5\u001b[0m     \u001b[0mprint\u001b[0m \u001b[1;33m(\u001b[0m\u001b[1;34m\"you should have given int or float\"\u001b[0m\u001b[1;33m)\u001b[0m\u001b[1;33m\u001b[0m\u001b[1;33m\u001b[0m\u001b[0m\n\u001b[1;32m----> 6\u001b[1;33m \u001b[1;32mexcept\u001b[0m \u001b[0mzeroDivisionError\u001b[0m \u001b[1;33m:\u001b[0m\u001b[1;33m\u001b[0m\u001b[1;33m\u001b[0m\u001b[0m\n\u001b[0m\u001b[0;32m      7\u001b[0m     \u001b[0mprint\u001b[0m\u001b[1;33m(\u001b[0m\u001b[1;34m\"Infinity\"\u001b[0m\u001b[1;33m)\u001b[0m\u001b[1;33m\u001b[0m\u001b[1;33m\u001b[0m\u001b[0m\n\u001b[0;32m      8\u001b[0m \u001b[1;32mfinally\u001b[0m \u001b[1;33m:\u001b[0m\u001b[1;33m\u001b[0m\u001b[1;33m\u001b[0m\u001b[0m\n",
      "\u001b[1;31mNameError\u001b[0m: name 'zeroDivisionError' is not defined"
     ]
    }
   ],
   "source": [
    "try :\n",
    "    x = float(input (\"your number :\"))\n",
    "    inverse = 1.0 / x\n",
    "except ValueError :\n",
    "    print (\"you should have given int or float\")\n",
    "except zeroDivisionError :\n",
    "    print(\"Infinity\")\n",
    "finally :\n",
    "    print(\"finally this block exectes\")"
   ]
  },
  {
   "cell_type": "code",
   "execution_count": 44,
   "metadata": {},
   "outputs": [
    {
     "ename": "MyException",
     "evalue": "An Exception not available in python stack",
     "output_type": "error",
     "traceback": [
      "\u001b[1;31m---------------------------------------------------------------------------\u001b[0m",
      "\u001b[1;31mMyException\u001b[0m                               Traceback (most recent call last)",
      "\u001b[1;32m<ipython-input-44-0bac20d96896>\u001b[0m in \u001b[0;36m<module>\u001b[1;34m\u001b[0m\n\u001b[0;32m      2\u001b[0m     \u001b[1;32mpass\u001b[0m\u001b[1;33m\u001b[0m\u001b[1;33m\u001b[0m\u001b[0m\n\u001b[0;32m      3\u001b[0m \u001b[1;33m\u001b[0m\u001b[0m\n\u001b[1;32m----> 4\u001b[1;33m \u001b[1;32mraise\u001b[0m \u001b[0mMyException\u001b[0m\u001b[1;33m(\u001b[0m\u001b[1;34m\"An Exception not available in python stack\"\u001b[0m\u001b[1;33m)\u001b[0m\u001b[1;33m\u001b[0m\u001b[1;33m\u001b[0m\u001b[0m\n\u001b[0m",
      "\u001b[1;31mMyException\u001b[0m: An Exception not available in python stack"
     ]
    }
   ],
   "source": [
    "class MyException (Exception) :\n",
    "    pass\n",
    "\n",
    "raise MyException(\"An Exception not available in python stack\")"
   ]
  },
  {
   "cell_type": "code",
   "execution_count": 45,
   "metadata": {},
   "outputs": [],
   "source": [
    "class ClassName(object) :\n",
    "    pass\n"
   ]
  },
  {
   "cell_type": "code",
   "execution_count": 48,
   "metadata": {},
   "outputs": [],
   "source": [
    "class Employee :\n",
    "    empCount = 0\n",
    "    \n",
    "    def __init__(self,name,salary) :\n",
    "        self.name = name\n",
    "        self.salary = salary\n",
    "        Employee.empCount +=1\n",
    "        \n",
    "    def displayCount(self):\n",
    "        print ((\"total employee %d\" % Employee.empCount))\n",
    "        \n",
    "    def displayEmployee(self):\n",
    "        print ((\"Name :\", self.name,\"salary :\", self.salary)) \n",
    "        "
   ]
  },
  {
   "cell_type": "code",
   "execution_count": 50,
   "metadata": {},
   "outputs": [
    {
     "name": "stdout",
     "output_type": "stream",
     "text": [
      "('Name :', 'Seenu', 'salary :', 2000)\n",
      "('Name :', 'vishnupriya', 'salary :', 50000000000)\n",
      "Total Employee 4\n"
     ]
    }
   ],
   "source": [
    "emp1 = Employee(\"Seenu\",2000)\n",
    "emp2 = Employee(\"vishnupriya\",50000000000)\n",
    "\n",
    "emp1.displayEmployee()\n",
    "emp2.displayEmployee()\n",
    "\n",
    "print ((\"Total Employee %d\" % Employee.empCount))\n"
   ]
  },
  {
   "cell_type": "code",
   "execution_count": 52,
   "metadata": {},
   "outputs": [],
   "source": [
    "class Contact :\n",
    "    all_contact = []\n",
    "    \n",
    "    def __init__(self,name,email) :\n",
    "        self.name = name \n",
    "        self.email = email\n",
    "        contact.all_contacts.append(self)\n",
    "        \n",
    "class Supplier(Contact) :\n",
    "    def order(self,order) :\n",
    "        print(\"{} order to {} \" , format(order, self.name))\n",
    "        "
   ]
  },
  {
   "cell_type": "code",
   "execution_count": null,
   "metadata": {},
   "outputs": [],
   "source": [
    "\n",
    "\n",
    "\n",
    "\n",
    "\n"
   ]
  },
  {
   "cell_type": "code",
   "execution_count": null,
   "metadata": {},
   "outputs": [],
   "source": []
  },
  {
   "cell_type": "code",
   "execution_count": null,
   "metadata": {},
   "outputs": [],
   "source": []
  },
  {
   "cell_type": "code",
   "execution_count": null,
   "metadata": {},
   "outputs": [],
   "source": []
  },
  {
   "cell_type": "code",
   "execution_count": null,
   "metadata": {},
   "outputs": [],
   "source": []
  },
  {
   "cell_type": "code",
   "execution_count": 53,
   "metadata": {},
   "outputs": [
    {
     "data": {
      "text/plain": [
       "105.0"
      ]
     },
     "execution_count": 53,
     "metadata": {},
     "output_type": "execute_result"
    }
   ],
   "source": [
    "def taxMe(cost,rate=0.0825):\n",
    "    return cost + (cost * rate)\n",
    "\n",
    "taxMe(100)\n",
    "taxMe(100,0.05)"
   ]
  },
  {
   "cell_type": "code",
   "execution_count": null,
   "metadata": {},
   "outputs": [],
   "source": []
  }
 ],
 "metadata": {
  "kernelspec": {
   "display_name": "Python 3",
   "language": "python",
   "name": "python3"
  },
  "language_info": {
   "codemirror_mode": {
    "name": "ipython",
    "version": 3
   },
   "file_extension": ".py",
   "mimetype": "text/x-python",
   "name": "python",
   "nbconvert_exporter": "python",
   "pygments_lexer": "ipython3",
   "version": "3.8.5"
  }
 },
 "nbformat": 4,
 "nbformat_minor": 4
}
